{
 "cells": [
  {
   "cell_type": "code",
   "execution_count": null,
   "id": "4876311c",
   "metadata": {},
   "outputs": [
    {
     "data": {
      "text/plain": [
       "'ccp: 0.3.4 | CP : 6.8.0 | REFPROP : 10.0.0.99'"
      ]
     },
     "execution_count": 1,
     "metadata": {},
     "output_type": "execute_result"
    }
   ],
   "source": [
    "#Importar bibliotecas\n",
    "import numpy as np\n",
    "from pathlib import Path\n",
    "import ccp\n",
    "import xlwings as xw\n",
    "from scipy.optimize import differential_evolution\n",
    "\n",
    "Q_ = ccp.Q_\n",
    "xw.pro = True\n",
    "\n",
    "data_dir = Path.cwd()\n",
    "\n",
    "ccp.__version__full"
   ]
  },
  {
   "cell_type": "markdown",
   "id": "34876429",
   "metadata": {},
   "source": [
    "## Definindo a pressão a montante e jusante do compressor"
   ]
  },
  {
   "cell_type": "code",
   "execution_count": 2,
   "id": "54a06414",
   "metadata": {},
   "outputs": [],
   "source": [
    "Ps_1sec_target = Q_(1.54,\"kgf/cm²\").to(\"Pa\")\n",
    "Pd_2sec_target = Q_(22.29,\"kgf/cm²\").to(\"Pa\")"
   ]
  },
  {
   "cell_type": "markdown",
   "id": "ce3d2ace",
   "metadata": {},
   "source": [
    "# Composição do Fluido de Processo"
   ]
  },
  {
   "cell_type": "code",
   "execution_count": null,
   "id": "6e4e5dab",
   "metadata": {},
   "outputs": [],
   "source": [
    "fluid={\n",
    "        \"HYDROGEN\": 4.85,\n",
    "        \"NITROGEN\": 0.97,\n",
    "        \"CARBON MONOXIDE\": 0.08,\n",
    "        \"OXYGEN\":0.05 ,\n",
    "        \"METHANE\": 18.08,\n",
    "        \"ETHYLENE\": 4.41,\n",
    "        \"ETHANE\": 7.05,\n",
    "        \"CARBON DIOXIDE\": 0.31,\n",
    "        \"HYDROGEN SULFIDE\": 0.970,\n",
    "        \"PROPENE\": 15.07,\n",
    "        \"PROPANE\": 7.11,\n",
    "        \"I-BUTANE\": 4.81,\n",
    "        \"I-BUTENE\": 3.68,\n",
    "        \"1-BUTENE\": 2.3+0.29,\n",
    "        \"cis-2-Butene\": 1.87+2.6,\n",
    "        \"N-BUTANE\": 2.3,\n",
    "        \"I-PENTANE\": 2.48+1.63+1.85,\n",
    "        \"N-HEXANE\": 9.9,\n",
    "        \"N-PENTANE\": 1.27,\n",
    "        \"WATER\": 4.6,\n",
    "    }"
   ]
  },
  {
   "cell_type": "markdown",
   "id": "654d3cda",
   "metadata": {},
   "source": [
    "#### Retirando a água da composição do fluido para calcular a vazão seca (Dry Flow) e assim realizar o cálculo da fração de condensado (que ocorre no trocador de calor entre 1ª e 2ª seção)"
   ]
  },
  {
   "cell_type": "code",
   "execution_count": null,
   "id": "f80ff09a",
   "metadata": {},
   "outputs": [],
   "source": [
    "fluid_dry={\n",
    "        \"HYDROGEN\": 4.85,\n",
    "        \"NITROGEN\": 0.97,\n",
    "        \"CARBON MONOXIDE\": 0.08,\n",
    "        \"OXYGEN\":0.05 ,\n",
    "        \"METHANE\": 18.08,\n",
    "        \"ETHYLENE\": 4.41,\n",
    "        \"ETHANE\": 7.05,\n",
    "        \"CARBON DIOXIDE\": 0.31,\n",
    "        \"HYDROGEN SULFIDE\": 0.970,\n",
    "        \"PROPENE\": 15.07,\n",
    "        \"PROPANE\": 7.11,\n",
    "        \"I-BUTANE\": 4.81,\n",
    "        \"I-BUTENE\": 3.68,\n",
    "        \"1-BUTENE\": 2.3+0.29,\n",
    "        \"cis-2-Butene\": 1.87+2.6,\n",
    "        \"N-BUTANE\": 2.3,\n",
    "        \"I-PENTANE\": 2.48+1.63+1.85,\n",
    "        \"N-HEXANE\": 9.9,\n",
    "        \"N-PENTANE\": 1.27,\n",
    "        #\"WATER\": 4.6,\n",
    "    }"
   ]
  },
  {
   "cell_type": "code",
   "execution_count": 5,
   "id": "b459bf69",
   "metadata": {},
   "outputs": [
    {
     "name": "stdout",
     "output_type": "stream",
     "text": [
      "Composição normalizada (soma = 100%):\n",
      "HYDROGEN: 5.16%\n",
      "NITROGEN: 1.03%\n",
      "CARBON MONOXIDE: 0.09%\n",
      "OXYGEN: 0.05%\n",
      "METHANE: 19.25%\n",
      "ETHYLENE: 4.69%\n",
      "ETHANE: 7.51%\n",
      "CARBON DIOXIDE: 0.33%\n",
      "HYDROGEN SULFIDE: 1.03%\n",
      "PROPENE: 16.04%\n",
      "PROPANE: 7.57%\n",
      "I-BUTANE: 5.12%\n",
      "I-BUTENE: 3.92%\n",
      "1-BUTENE: 2.76%\n",
      "cis-2-Butene: 4.76%\n",
      "N-BUTANE: 2.45%\n",
      "I-PENTANE: 6.35%\n",
      "N-HEXANE: 10.54%\n",
      "N-PENTANE: 1.35%\n"
     ]
    }
   ],
   "source": [
    "#Normalizando as frações do fluido retirando a Água!\n",
    "\n",
    "# Soma total original\n",
    "total = sum(fluid_dry.values())\n",
    "\n",
    "# Normalização para 100%\n",
    "fluid_dry = {k: round((v / total) * 100, 2) for k, v in fluid_dry.items()}\n",
    "\n",
    "# Impressão do resultado\n",
    "print(\"Composição normalizada (soma = 100%):\")\n",
    "for comp, val in fluid_dry.items():\n",
    "    print(f\"{comp}: {val}%\")\n"
   ]
  },
  {
   "cell_type": "markdown",
   "id": "e5f1856c",
   "metadata": {},
   "source": [
    "### Construindo o estado do gás na entrada do compressor - 1ªSeção"
   ]
  },
  {
   "cell_type": "code",
   "execution_count": 6,
   "id": "c581fabf",
   "metadata": {},
   "outputs": [],
   "source": [
    "# 1ª SEÇÃO\n",
    "suc_1sec = ccp.State(\n",
    "    p=Ps_1sec_target, # original set 1.59 kgf/cm²\n",
    "    T=Q_(39, \"degC\"),\n",
    "    fluid=fluid_dry     \n",
    ")"
   ]
  },
  {
   "cell_type": "markdown",
   "id": "17496ae9",
   "metadata": {},
   "source": [
    "##### Construindo a classe Impeller que calcula as condições de descarga de cada seção baseado nas curvas de performance do fabricante do compressor (curva de Head e Eficiência)"
   ]
  },
  {
   "cell_type": "code",
   "execution_count": 7,
   "id": "e9e81d17",
   "metadata": {},
   "outputs": [],
   "source": [
    "imp_1sec = ccp.Impeller.load_from_engauge_csv(\n",
    "    suc=suc_1sec,\n",
    "    curve_name=\"curve_1sec_custom\",\n",
    "    curve_path=data_dir,\n",
    "    b=Q_(5, \"mm\"),\n",
    "    D=Q_(294, \"mm\"),\n",
    "    head_units=\"kJ/kg\",\n",
    "    flow_units=\"m³/h\",\n",
    "    power_losses_units=\"kW\",\n",
    "    number_of_points=5,\n",
    ")"
   ]
  },
  {
   "cell_type": "markdown",
   "id": "fa9aadd2",
   "metadata": {},
   "source": [
    "## Restrições: Pressão de descarga na 2ª Seção, perda de carga no trocador de calor e Rotação do compressor"
   ]
  },
  {
   "cell_type": "code",
   "execution_count": 8,
   "id": "1564e723",
   "metadata": {},
   "outputs": [],
   "source": [
    "Perda_de_carga = Q_(0.51,\"kgf/cm²\").to(\"Pa\")\n",
    "\n",
    "speed = Q_(5354,\"rpm\").to(\"rad/s\")\n",
    "\n",
    "args = [Pd_2sec_target.m, Perda_de_carga.m, speed.m]"
   ]
  },
  {
   "cell_type": "markdown",
   "id": "e98c69af",
   "metadata": {},
   "source": [
    "## Função objetivo"
   ]
  },
  {
   "cell_type": "code",
   "execution_count": 9,
   "id": "8867df53",
   "metadata": {},
   "outputs": [
    {
     "name": "stderr",
     "output_type": "stream",
     "text": [
      "c:\\Users\\UT6E\\AppData\\Local\\miniforge3\\envs\\py312\\Lib\\site-packages\\ccp\\impeller.py:361: UserWarning: Expected point is being extrapolated.\n",
      "Interpolation limits: 3.973 m³/s ~ 5.577 m³/s\n",
      "Expected point flow: 3.140 m³/s\n",
      "  warnings.warn(\n",
      "c:\\Users\\UT6E\\AppData\\Local\\miniforge3\\envs\\py312\\Lib\\site-packages\\ccp\\impeller.py:361: UserWarning: Expected point is being extrapolated.\n",
      "Interpolation limits: 3.973 m³/s ~ 5.577 m³/s\n",
      "Expected point flow: 2.841 m³/s\n",
      "  warnings.warn(\n",
      "c:\\Users\\UT6E\\AppData\\Local\\miniforge3\\envs\\py312\\Lib\\site-packages\\ccp\\impeller.py:361: UserWarning: Expected point is being extrapolated.\n",
      "Interpolation limits: 3.973 m³/s ~ 5.577 m³/s\n",
      "Expected point flow: 3.248 m³/s\n",
      "  warnings.warn(\n",
      "c:\\Users\\UT6E\\AppData\\Local\\miniforge3\\envs\\py312\\Lib\\site-packages\\ccp\\impeller.py:361: UserWarning: Expected point is being extrapolated.\n",
      "Interpolation limits: 3.973 m³/s ~ 5.577 m³/s\n",
      "Expected point flow: 3.946 m³/s\n",
      "  warnings.warn(\n",
      "c:\\Users\\UT6E\\AppData\\Local\\miniforge3\\envs\\py312\\Lib\\site-packages\\ccp\\impeller.py:361: UserWarning: Expected point is being extrapolated.\n",
      "Interpolation limits: 3.973 m³/s ~ 5.577 m³/s\n",
      "Expected point flow: 2.556 m³/s\n",
      "  warnings.warn(\n",
      "c:\\Users\\UT6E\\AppData\\Local\\miniforge3\\envs\\py312\\Lib\\site-packages\\ccp\\impeller.py:361: UserWarning: Expected point is being extrapolated.\n",
      "Interpolation limits: 3.973 m³/s ~ 5.577 m³/s\n",
      "Expected point flow: 5.849 m³/s\n",
      "  warnings.warn(\n",
      "c:\\Users\\UT6E\\AppData\\Local\\miniforge3\\envs\\py312\\Lib\\site-packages\\ccp\\impeller.py:361: UserWarning: Expected point is being extrapolated.\n",
      "Interpolation limits: 3.973 m³/s ~ 5.577 m³/s\n",
      "Expected point flow: 2.988 m³/s\n",
      "  warnings.warn(\n",
      "c:\\Users\\UT6E\\AppData\\Local\\miniforge3\\envs\\py312\\Lib\\site-packages\\ccp\\impeller.py:361: UserWarning: Expected point is being extrapolated.\n",
      "Interpolation limits: 3.973 m³/s ~ 5.577 m³/s\n",
      "Expected point flow: 2.633 m³/s\n",
      "  warnings.warn(\n",
      "c:\\Users\\UT6E\\AppData\\Local\\miniforge3\\envs\\py312\\Lib\\site-packages\\ccp\\impeller.py:361: UserWarning: Expected point is being extrapolated.\n",
      "Interpolation limits: 3.973 m³/s ~ 5.577 m³/s\n",
      "Expected point flow: 3.416 m³/s\n",
      "  warnings.warn(\n",
      "c:\\Users\\UT6E\\AppData\\Local\\miniforge3\\envs\\py312\\Lib\\site-packages\\ccp\\impeller.py:361: UserWarning: Expected point is being extrapolated.\n",
      "Interpolation limits: 3.973 m³/s ~ 5.577 m³/s\n",
      "Expected point flow: 2.730 m³/s\n",
      "  warnings.warn(\n",
      "c:\\Users\\UT6E\\AppData\\Local\\miniforge3\\envs\\py312\\Lib\\site-packages\\ccp\\impeller.py:361: UserWarning: Expected point is being extrapolated.\n",
      "Interpolation limits: 3.973 m³/s ~ 5.577 m³/s\n",
      "Expected point flow: 3.597 m³/s\n",
      "  warnings.warn(\n",
      "c:\\Users\\UT6E\\AppData\\Local\\miniforge3\\envs\\py312\\Lib\\site-packages\\ccp\\impeller.py:361: UserWarning: Expected point is being extrapolated.\n",
      "Interpolation limits: 3.973 m³/s ~ 5.577 m³/s\n",
      "Expected point flow: 6.114 m³/s\n",
      "  warnings.warn(\n",
      "c:\\Users\\UT6E\\AppData\\Local\\miniforge3\\envs\\py312\\Lib\\site-packages\\ccp\\impeller.py:361: UserWarning: Expected point is being extrapolated.\n",
      "Interpolation limits: 3.973 m³/s ~ 5.577 m³/s\n",
      "Expected point flow: 3.078 m³/s\n",
      "  warnings.warn(\n",
      "c:\\Users\\UT6E\\AppData\\Local\\miniforge3\\envs\\py312\\Lib\\site-packages\\ccp\\impeller.py:361: UserWarning: Expected point is being extrapolated.\n",
      "Interpolation limits: 3.973 m³/s ~ 5.577 m³/s\n",
      "Expected point flow: 6.078 m³/s\n",
      "  warnings.warn(\n",
      "c:\\Users\\UT6E\\AppData\\Local\\miniforge3\\envs\\py312\\Lib\\site-packages\\ccp\\impeller.py:361: UserWarning: Expected point is being extrapolated.\n",
      "Interpolation limits: 3.973 m³/s ~ 5.577 m³/s\n",
      "Expected point flow: 3.886 m³/s\n",
      "  warnings.warn(\n",
      "c:\\Users\\UT6E\\AppData\\Local\\miniforge3\\envs\\py312\\Lib\\site-packages\\ccp\\impeller.py:361: UserWarning: Expected point is being extrapolated.\n",
      "Interpolation limits: 3.973 m³/s ~ 5.577 m³/s\n",
      "Expected point flow: 3.211 m³/s\n",
      "  warnings.warn(\n",
      "c:\\Users\\UT6E\\AppData\\Local\\miniforge3\\envs\\py312\\Lib\\site-packages\\ccp\\impeller.py:361: UserWarning: Expected point is being extrapolated.\n",
      "Interpolation limits: 3.973 m³/s ~ 5.577 m³/s\n",
      "Expected point flow: 5.681 m³/s\n",
      "  warnings.warn(\n",
      "c:\\Users\\UT6E\\AppData\\Local\\miniforge3\\envs\\py312\\Lib\\site-packages\\ccp\\impeller.py:361: UserWarning: Expected point is being extrapolated.\n",
      "Interpolation limits: 3.973 m³/s ~ 5.577 m³/s\n",
      "Expected point flow: 3.847 m³/s\n",
      "  warnings.warn(\n"
     ]
    },
    {
     "name": "stdout",
     "output_type": "stream",
     "text": [
      "differential_evolution step 1: f(x)= 309.0\n"
     ]
    },
    {
     "name": "stderr",
     "output_type": "stream",
     "text": [
      "c:\\Users\\UT6E\\AppData\\Local\\miniforge3\\envs\\py312\\Lib\\site-packages\\ccp\\impeller.py:361: UserWarning: Expected point is being extrapolated.\n",
      "Interpolation limits: 3.973 m³/s ~ 5.577 m³/s\n",
      "Expected point flow: 5.591 m³/s\n",
      "  warnings.warn(\n",
      "c:\\Users\\UT6E\\AppData\\Local\\miniforge3\\envs\\py312\\Lib\\site-packages\\ccp\\impeller.py:361: UserWarning: Expected point is being extrapolated.\n",
      "Interpolation limits: 3.973 m³/s ~ 5.577 m³/s\n",
      "Expected point flow: 5.601 m³/s\n",
      "  warnings.warn(\n",
      "c:\\Users\\UT6E\\AppData\\Local\\miniforge3\\envs\\py312\\Lib\\site-packages\\ccp\\impeller.py:361: UserWarning: Expected point is being extrapolated.\n",
      "Interpolation limits: 3.973 m³/s ~ 5.577 m³/s\n",
      "Expected point flow: 6.259 m³/s\n",
      "  warnings.warn(\n",
      "c:\\Users\\UT6E\\AppData\\Local\\miniforge3\\envs\\py312\\Lib\\site-packages\\ccp\\impeller.py:361: UserWarning: Expected point is being extrapolated.\n",
      "Interpolation limits: 3.973 m³/s ~ 5.577 m³/s\n",
      "Expected point flow: 5.790 m³/s\n",
      "  warnings.warn(\n",
      "c:\\Users\\UT6E\\AppData\\Local\\miniforge3\\envs\\py312\\Lib\\site-packages\\ccp\\impeller.py:361: UserWarning: Expected point is being extrapolated.\n",
      "Interpolation limits: 3.973 m³/s ~ 5.577 m³/s\n",
      "Expected point flow: 6.525 m³/s\n",
      "  warnings.warn(\n",
      "c:\\Users\\UT6E\\AppData\\Local\\miniforge3\\envs\\py312\\Lib\\site-packages\\ccp\\impeller.py:361: UserWarning: Expected point is being extrapolated.\n",
      "Interpolation limits: 3.973 m³/s ~ 5.577 m³/s\n",
      "Expected point flow: 5.833 m³/s\n",
      "  warnings.warn(\n"
     ]
    },
    {
     "name": "stdout",
     "output_type": "stream",
     "text": [
      "differential_evolution step 2: f(x)= 309.0\n"
     ]
    },
    {
     "name": "stderr",
     "output_type": "stream",
     "text": [
      "c:\\Users\\UT6E\\AppData\\Local\\miniforge3\\envs\\py312\\Lib\\site-packages\\ccp\\impeller.py:361: UserWarning: Expected point is being extrapolated.\n",
      "Interpolation limits: 3.973 m³/s ~ 5.577 m³/s\n",
      "Expected point flow: 6.627 m³/s\n",
      "  warnings.warn(\n",
      "c:\\Users\\UT6E\\AppData\\Local\\miniforge3\\envs\\py312\\Lib\\site-packages\\ccp\\impeller.py:361: UserWarning: Expected point is being extrapolated.\n",
      "Interpolation limits: 3.973 m³/s ~ 5.577 m³/s\n",
      "Expected point flow: 6.228 m³/s\n",
      "  warnings.warn(\n",
      "c:\\Users\\UT6E\\AppData\\Local\\miniforge3\\envs\\py312\\Lib\\site-packages\\ccp\\impeller.py:361: UserWarning: Expected point is being extrapolated.\n",
      "Interpolation limits: 3.973 m³/s ~ 5.577 m³/s\n",
      "Expected point flow: 5.581 m³/s\n",
      "  warnings.warn(\n",
      "c:\\Users\\UT6E\\AppData\\Local\\miniforge3\\envs\\py312\\Lib\\site-packages\\ccp\\impeller.py:361: UserWarning: Expected point is being extrapolated.\n",
      "Interpolation limits: 3.973 m³/s ~ 5.577 m³/s\n",
      "Expected point flow: 5.799 m³/s\n",
      "  warnings.warn(\n",
      "c:\\Users\\UT6E\\AppData\\Local\\miniforge3\\envs\\py312\\Lib\\site-packages\\ccp\\impeller.py:361: UserWarning: Expected point is being extrapolated.\n",
      "Interpolation limits: 3.973 m³/s ~ 5.577 m³/s\n",
      "Expected point flow: 5.590 m³/s\n",
      "  warnings.warn(\n",
      "c:\\Users\\UT6E\\AppData\\Local\\miniforge3\\envs\\py312\\Lib\\site-packages\\ccp\\impeller.py:361: UserWarning: Expected point is being extrapolated.\n",
      "Interpolation limits: 3.973 m³/s ~ 5.577 m³/s\n",
      "Expected point flow: 5.619 m³/s\n",
      "  warnings.warn(\n"
     ]
    },
    {
     "name": "stdout",
     "output_type": "stream",
     "text": [
      "differential_evolution step 3: f(x)= 309.0\n"
     ]
    },
    {
     "name": "stderr",
     "output_type": "stream",
     "text": [
      "c:\\Users\\UT6E\\AppData\\Local\\miniforge3\\envs\\py312\\Lib\\site-packages\\ccp\\impeller.py:361: UserWarning: Expected point is being extrapolated.\n",
      "Interpolation limits: 3.973 m³/s ~ 5.577 m³/s\n",
      "Expected point flow: 5.773 m³/s\n",
      "  warnings.warn(\n",
      "c:\\Users\\UT6E\\AppData\\Local\\miniforge3\\envs\\py312\\Lib\\site-packages\\ccp\\impeller.py:361: UserWarning: Expected point is being extrapolated.\n",
      "Interpolation limits: 3.973 m³/s ~ 5.577 m³/s\n",
      "Expected point flow: 6.286 m³/s\n",
      "  warnings.warn(\n",
      "c:\\Users\\UT6E\\AppData\\Local\\miniforge3\\envs\\py312\\Lib\\site-packages\\ccp\\impeller.py:361: UserWarning: Expected point is being extrapolated.\n",
      "Interpolation limits: 3.973 m³/s ~ 5.577 m³/s\n",
      "Expected point flow: 6.217 m³/s\n",
      "  warnings.warn(\n",
      "c:\\Users\\UT6E\\AppData\\Local\\miniforge3\\envs\\py312\\Lib\\site-packages\\ccp\\impeller.py:361: UserWarning: Expected point is being extrapolated.\n",
      "Interpolation limits: 3.973 m³/s ~ 5.577 m³/s\n",
      "Expected point flow: 5.960 m³/s\n",
      "  warnings.warn(\n"
     ]
    },
    {
     "name": "stdout",
     "output_type": "stream",
     "text": [
      "differential_evolution step 4: f(x)= 274.0\n",
      "differential_evolution step 5: f(x)= 58.0\n",
      "differential_evolution step 6: f(x)= 0.0\n",
      "Polishing solution with 'L-BFGS-B'\n",
      "\n",
      "Resultado final com differential_evolution:\n",
      "x*:  [51.93546067]\n",
      "f(x*):  0.0\n",
      "\n",
      "Histórico de iterações:\n",
      "Iter 1: x = [52.01576394], f(x) = 309.0\n",
      "Iter 2: x = [52.01576394], f(x) = 309.0\n",
      "Iter 3: x = [52.01576394], f(x) = 309.0\n",
      "Iter 4: x = [51.86395516], f(x) = 274.0\n",
      "Iter 5: x = [51.9202314], f(x) = 58.0\n",
      "Iter 6: x = [51.93546067], f(x) = 0.0\n"
     ]
    }
   ],
   "source": [
    "def update_flow(x, *args):\n",
    "    \n",
    "    flow_m_1 = x[0]\n",
    "    speed = args[2]\n",
    "    point_1sec = imp_1sec.point(flow_m= flow_m_1, speed=speed)\n",
    "    Pd_1sec = point_1sec.disch.p().m\n",
    "    Pd_2sec = args[0]\n",
    "    press_drop = args[1]               ## perda de carga no trocador de calor\n",
    "    Ps_2sec = Pd_1sec - press_drop   \n",
    "\n",
    "    disch = point_1sec.disch\n",
    "    disch.update(p=Ps_2sec, T=Q_(40, \"°C\"))\n",
    "    gas_rate = disch.Q()                                                                         #Fração mássica de gás após condensação\n",
    "    base_fluid_2sec = {k: v for k, v in zip(disch.fluid_names(), disch.mole_fractions_vapor())}         #composição do gás após condensação\n",
    "\n",
    "    new_suc_2sec = ccp.State(\n",
    "        p=Ps_2sec, # original set 5.48 kgf/cm²\n",
    "        T=Q_(40, \"degC\"),\n",
    "        fluid=base_fluid_2sec\n",
    "    )\n",
    "\n",
    "    new_imp_2sec = ccp.Impeller.load_from_engauge_csv(\n",
    "        suc=new_suc_2sec,\n",
    "        curve_name=\"curve_2sec_custom\",\n",
    "        curve_path=data_dir,\n",
    "        b=Q_(5, \"mm\"),\n",
    "        D=Q_(294, \"mm\"),\n",
    "        head_units=\"kJ/kg\",\n",
    "        flow_units=\"m³/h\",\n",
    "        power_losses_units = \"kW\",\n",
    "        number_of_points=5,\n",
    "    )\n",
    "    \n",
    "    flow_m_2 = gas_rate*x[0]\n",
    "    new_point_2sec= new_imp_2sec.point(flow_m= flow_m_2, speed=speed)\n",
    "    Pd_2_calc = new_point_2sec.disch.p().to(\"Pa\").m\n",
    "    Pd_2_calc = round(Pd_2_calc/100,0)                                          #mudando para hPa e arredondando para a convergencia não ficar caótica\n",
    "    Pd_2sec = round(Pd_2sec/100,0)\n",
    "\n",
    "    mod = abs(Pd_2_calc- Pd_2sec)\n",
    "\n",
    "    return mod\n",
    "\n",
    "# Lista para registrar histórico\n",
    "history = []\n",
    "\n",
    "# Callback que salva o histórico e para se f(x) <= 0\n",
    "def save_history_and_stop(xk, convergence):\n",
    "    fx = update_flow(xk,*args)\n",
    "    history.append((xk.copy(), fx))\n",
    "    \n",
    "    # Interrompe a otimização quando f(x) <= 0\n",
    "    return fx <= 1\n",
    "\n",
    "\n",
    "# LIMITES \n",
    "bounds = [(imp_1sec.curves[1].points[0].flow_m.m, imp_1sec.curves[1].points[-1].flow_m.m)]\n",
    "\n",
    "\n",
    "# Executar otimização\n",
    "res = differential_evolution(\n",
    "    update_flow,\n",
    "    bounds=bounds,\n",
    "    args=args,\n",
    "    strategy='best1bin',\n",
    "    maxiter=1000,\n",
    "    tol = 0.1,\n",
    "    polish=True,\n",
    "    disp=True,\n",
    "    callback=save_history_and_stop,\n",
    ")\n",
    "\n",
    "# Resultado\n",
    "print(\"\\nResultado final com differential_evolution:\")\n",
    "print(\"x*: \", res.x)\n",
    "print(\"f(x*): \", res.fun)\n",
    "\n",
    "# Histórico\n",
    "print(\"\\nHistórico de iterações:\")\n",
    "for i, (x_val, f_val) in enumerate(history):\n",
    "    print(f\"Iter {i+1}: x = {x_val}, f(x) = {f_val}\")\n",
    "\n",
    "    "
   ]
  },
  {
   "cell_type": "markdown",
   "id": "5bcd406d",
   "metadata": {},
   "source": [
    "## Imprimindo Resultados"
   ]
  },
  {
   "cell_type": "code",
   "execution_count": 10,
   "id": "79ebf9f4",
   "metadata": {},
   "outputs": [],
   "source": [
    "flow_m_1 = res.x[0]\n",
    "speed = imp_1sec.curves[1].speed\n",
    "point_1sec = imp_1sec.point(flow_m= flow_m_1, speed=speed)\n",
    "Pd_1sec = point_1sec.disch.p().m\n",
    "Pd_2sec = args[0]\n",
    "Ps_2sec = Q_((Pd_1sec - 50013.915), \"Pa\")   ### 0.51 kgf/cm² = 61781.895 pascal\n",
    "\n",
    "disch = point_1sec.disch\n",
    "disch.update(p=Ps_2sec, T=Q_(40, \"°C\"))\n",
    "gas_rate = disch.Q()                                                                         #Fração mássica de gás após condensação\n",
    "base_fluid_2sec = {k: v for k, v in zip(disch.fluid_names(), disch.mole_fractions_vapor())}         #composição do gás após condensação\n",
    "\n",
    "new_suc_2sec = ccp.State(\n",
    "    p=Ps_2sec, # original set 5.48 kgf/cm²\n",
    "    T=Q_(40, \"degC\"),\n",
    "    fluid=base_fluid_2sec\n",
    ")\n",
    "\n",
    "new_imp_2sec = ccp.Impeller.load_from_engauge_csv(\n",
    "    suc=new_suc_2sec,\n",
    "    curve_name=\"curve_2sec_custom\",\n",
    "    curve_path=data_dir,\n",
    "    b=Q_(5, \"mm\"),\n",
    "    D=Q_(294, \"mm\"),\n",
    "    head_units=\"kJ/kg\",\n",
    "    flow_units=\"m³/h\",\n",
    "    power_losses_units = \"kW\",\n",
    "    number_of_points=5,\n",
    ")\n",
    "\n",
    "flow_m_1 = res.x[0]\n",
    "speed = imp_1sec.curves[1].speed\n",
    "point_1sec = imp_1sec.point(flow_m= flow_m_1, speed=speed)\n",
    "\n",
    "flow_m_2 = gas_rate*res.x[0]\n",
    "speed = new_imp_2sec.curves[1].speed\n",
    "new_point_2sec= new_imp_2sec.point(flow_m= flow_m_2, speed=speed)\n",
    "\n"
   ]
  },
  {
   "cell_type": "code",
   "execution_count": 11,
   "id": "37cc8881",
   "metadata": {},
   "outputs": [],
   "source": [
    "book = xw.Book(\"WET_GAS_pressao_interestagio.xlsx\")\n",
    "\n",
    "def export_excel(new_point, column, sheet):\n",
    "    \n",
    "    mass_flow = new_point.flow_v * new_point.suc.rho()\n",
    "    sheet.cells(4,column).value = mass_flow.to(\"kg/h\").m\n",
    "\n",
    "    sheet.cells(6,column).value = new_point.suc.p().to(\"kgf/cm²\").m\n",
    "    sheet.cells(7,column).value = new_point.suc.T().to(\"degC\").m\n",
    "    sheet.cells(8,column).value = new_point.suc.molar_mass().to(\"kg/kmol\").m\n",
    "    sheet.cells(9,column).value = new_point.flow_v.to(\"m**3/h\").m\n",
    "\n",
    "    sheet.cells(11,column).value = new_point.disch.p().to(\"kgf/cm²\").m\n",
    "    sheet.cells(12,column).value = new_point.disch.T().to(\"degC\").m\n",
    "\n",
    "    sheet.cells(14,column).value = new_point.power.to(\"kW\").m\n",
    "    #sheet.cells(15,column).value = new_point.power_shaft.to(\"kW\").m\n",
    "    sheet.cells(16,column).value = new_point.speed.to(\"rpm\").m\n",
    "    sheet.cells(17,column).value = new_point.head.to(\"kJ/kg\").m\n",
    "    sheet.cells(18,column).value = new_point.eff.m * 100\n",
    "    #sheet.cells(19,column).value = new_point.torque.to(\"N*m\").m\n",
    "\n",
    "iteration = 0\n",
    "\n",
    "export_excel(point_1sec, column = 3+(iteration*2),sheet = book.sheets[\"main\"])\n",
    "export_excel(new_point_2sec, column = 4+(iteration*2),sheet = book.sheets[\"main\"])"
   ]
  }
 ],
 "metadata": {
  "kernelspec": {
   "display_name": "py312",
   "language": "python",
   "name": "python3"
  },
  "language_info": {
   "codemirror_mode": {
    "name": "ipython",
    "version": 3
   },
   "file_extension": ".py",
   "mimetype": "text/x-python",
   "name": "python",
   "nbconvert_exporter": "python",
   "pygments_lexer": "ipython3",
   "version": "3.12.4"
  }
 },
 "nbformat": 4,
 "nbformat_minor": 5
}
