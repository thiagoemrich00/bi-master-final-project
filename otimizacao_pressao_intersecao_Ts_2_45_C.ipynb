{
 "cells": [
  {
   "cell_type": "code",
   "execution_count": 1,
   "id": "4876311c",
   "metadata": {},
   "outputs": [
    {
     "data": {
      "text/plain": [
       "'ccp: 0.3.4 | CP : 6.8.0 | REFPROP : 10.0.0.99'"
      ]
     },
     "execution_count": 1,
     "metadata": {},
     "output_type": "execute_result"
    }
   ],
   "source": [
    "#Importar bibliotecas\n",
    "import numpy as np\n",
    "from pathlib import Path\n",
    "import ccp\n",
    "import xlwings as xw\n",
    "from scipy.optimize import differential_evolution\n",
    "\n",
    "Q_ = ccp.Q_\n",
    "xw.pro = True\n",
    "\n",
    "data_dir = Path.cwd()\n",
    "\n",
    "ccp.__version__full"
   ]
  },
  {
   "cell_type": "markdown",
   "id": "34876429",
   "metadata": {},
   "source": [
    "## Definindo a pressão a montante e jusante do compressor"
   ]
  },
  {
   "cell_type": "code",
   "execution_count": 2,
   "id": "54a06414",
   "metadata": {},
   "outputs": [],
   "source": [
    "Ps_1sec_target = Q_(1.5,\"kgf/cm²\").to(\"Pa\")\n",
    "Pd_2sec_target = Q_(22.29,\"kgf/cm²\").to(\"Pa\")"
   ]
  },
  {
   "cell_type": "markdown",
   "id": "ce3d2ace",
   "metadata": {},
   "source": [
    "# Composição do Fluido de Processo"
   ]
  },
  {
   "cell_type": "code",
   "execution_count": 3,
   "id": "6e4e5dab",
   "metadata": {},
   "outputs": [],
   "source": [
    "fluid={\n",
    "        \"HYDROGEN\": 4.85,\n",
    "        \"NITROGEN\": 0.97,\n",
    "        \"CARBON MONOXIDE\": 0.08,\n",
    "        \"OXYGEN\":0.05 ,\n",
    "        \"METHANE\": 18.08,\n",
    "        \"ETHYLENE\": 4.41,\n",
    "        \"ETHANE\": 7.05,\n",
    "        \"CARBON DIOXIDE\": 0.31,\n",
    "        \"HYDROGEN SULFIDE\": 0.970,\n",
    "        \"PROPENE\": 15.07,\n",
    "        \"PROPANE\": 7.11,\n",
    "        \"I-BUTANE\": 4.81,\n",
    "        \"I-BUTENE\": 3.68,\n",
    "        \"1-BUTENE\": 2.3+0.29,\n",
    "        \"cis-2-Butene\": 1.87+2.6,\n",
    "        \"N-BUTANE\": 2.3,\n",
    "        \"I-PENTANE\": 2.48+1.63+1.85,\n",
    "        \"N-HEXANE\": 9.9,\n",
    "        \"N-PENTANE\": 1.27,\n",
    "        \"WATER\": 4.6,\n",
    "    }"
   ]
  },
  {
   "cell_type": "markdown",
   "id": "654d3cda",
   "metadata": {},
   "source": [
    "#### Retirando a água da composição do fluido para calcular a vazão seca (Dry Flow) e assim realizar o cálculo da fração de condensado (que ocorre no trocador de calor entre 1ª e 2ª seção)"
   ]
  },
  {
   "cell_type": "code",
   "execution_count": 4,
   "id": "f80ff09a",
   "metadata": {},
   "outputs": [],
   "source": [
    "fluid_dry={\n",
    "        \"HYDROGEN\": 4.85,\n",
    "        \"NITROGEN\": 0.97,\n",
    "        \"CARBON MONOXIDE\": 0.08,\n",
    "        \"OXYGEN\":0.05 ,\n",
    "        \"METHANE\": 18.08,\n",
    "        \"ETHYLENE\": 4.41,\n",
    "        \"ETHANE\": 7.05,\n",
    "        \"CARBON DIOXIDE\": 0.31,\n",
    "        \"HYDROGEN SULFIDE\": 0.970,\n",
    "        \"PROPENE\": 15.07,\n",
    "        \"PROPANE\": 7.11,\n",
    "        \"I-BUTANE\": 4.81,\n",
    "        \"I-BUTENE\": 3.68,\n",
    "        \"1-BUTENE\": 2.3+0.29,\n",
    "        \"cis-2-Butene\": 1.87+2.6,\n",
    "        \"N-BUTANE\": 2.3,\n",
    "        \"I-PENTANE\": 2.48+1.63+1.85,\n",
    "        \"N-HEXANE\": 9.9,\n",
    "        \"N-PENTANE\": 1.27,\n",
    "        #\"WATER\": 4.6,\n",
    "    }"
   ]
  },
  {
   "cell_type": "code",
   "execution_count": 5,
   "id": "b459bf69",
   "metadata": {},
   "outputs": [
    {
     "name": "stdout",
     "output_type": "stream",
     "text": [
      "Composição normalizada (soma = 100%):\n",
      "HYDROGEN: 5.16%\n",
      "NITROGEN: 1.03%\n",
      "CARBON MONOXIDE: 0.09%\n",
      "OXYGEN: 0.05%\n",
      "METHANE: 19.25%\n",
      "ETHYLENE: 4.69%\n",
      "ETHANE: 7.51%\n",
      "CARBON DIOXIDE: 0.33%\n",
      "HYDROGEN SULFIDE: 1.03%\n",
      "PROPENE: 16.04%\n",
      "PROPANE: 7.57%\n",
      "I-BUTANE: 5.12%\n",
      "I-BUTENE: 3.92%\n",
      "1-BUTENE: 2.76%\n",
      "cis-2-Butene: 4.76%\n",
      "N-BUTANE: 2.45%\n",
      "I-PENTANE: 6.35%\n",
      "N-HEXANE: 10.54%\n",
      "N-PENTANE: 1.35%\n"
     ]
    }
   ],
   "source": [
    "#Normalizando as frações do fluido retirando a Água!\n",
    "\n",
    "# Soma total original\n",
    "total = sum(fluid_dry.values())\n",
    "\n",
    "# Normalização para 100%\n",
    "fluid_dry = {k: round((v / total) * 100, 2) for k, v in fluid_dry.items()}\n",
    "\n",
    "# Impressão do resultado\n",
    "print(\"Composição normalizada (soma = 100%):\")\n",
    "for comp, val in fluid_dry.items():\n",
    "    print(f\"{comp}: {val}%\")\n"
   ]
  },
  {
   "cell_type": "markdown",
   "id": "e5f1856c",
   "metadata": {},
   "source": [
    "### Construindo o estado do gás na entrada do compressor - 1ªSeção"
   ]
  },
  {
   "cell_type": "code",
   "execution_count": 6,
   "id": "c581fabf",
   "metadata": {},
   "outputs": [],
   "source": [
    "# 1ª SEÇÃO\n",
    "suc_1sec = ccp.State(\n",
    "    p=Ps_1sec_target, # original set 1.59 kgf/cm²\n",
    "    T=Q_(39, \"degC\"),\n",
    "    fluid=fluid_dry     \n",
    ")"
   ]
  },
  {
   "cell_type": "markdown",
   "id": "17496ae9",
   "metadata": {},
   "source": [
    "##### Construindo a classe Impeller que calcula as condições de descarga de cada seção baseado nas curvas de performance do fabricante do compressor (curva de Head e Eficiência)"
   ]
  },
  {
   "cell_type": "code",
   "execution_count": 7,
   "id": "e9e81d17",
   "metadata": {},
   "outputs": [],
   "source": [
    "imp_1sec = ccp.Impeller.load_from_engauge_csv(\n",
    "    suc=suc_1sec,\n",
    "    curve_name=\"curve_1sec_custom\",\n",
    "    curve_path=data_dir,\n",
    "    b=Q_(5, \"mm\"),\n",
    "    D=Q_(294, \"mm\"),\n",
    "    head_units=\"kJ/kg\",\n",
    "    flow_units=\"m³/h\",\n",
    "    power_losses_units=\"kW\",\n",
    "    number_of_points=5,\n",
    ")"
   ]
  },
  {
   "cell_type": "markdown",
   "id": "fa9aadd2",
   "metadata": {},
   "source": [
    "## Restrições: Pressão de descarga na 2ª Seção, perda de carga no trocador de calor e Rotação do compressor"
   ]
  },
  {
   "cell_type": "code",
   "execution_count": 8,
   "id": "1564e723",
   "metadata": {},
   "outputs": [],
   "source": [
    "Perda_de_carga = Q_(0.51,\"kgf/cm²\").to(\"Pa\")\n",
    "\n",
    "Ts_2 = Q_(45,\"degC\").to(\"K\") # temperatura do interseção    \n",
    "\n",
    "speed = Q_(5354,\"rpm\").to(\"rad/s\")\n",
    "\n",
    "args = [Pd_2sec_target.m, Perda_de_carga.m, speed.m, Ts_2.m]"
   ]
  },
  {
   "cell_type": "markdown",
   "id": "e98c69af",
   "metadata": {},
   "source": [
    "## Função objetivo"
   ]
  },
  {
   "cell_type": "code",
   "execution_count": 10,
   "id": "8867df53",
   "metadata": {},
   "outputs": [
    {
     "name": "stderr",
     "output_type": "stream",
     "text": [
      "c:\\Users\\UT6E\\AppData\\Local\\miniforge3\\envs\\py312\\Lib\\site-packages\\ccp\\impeller.py:361: UserWarning: Expected point is being extrapolated.\n",
      "Interpolation limits: 3.973 m³/s ~ 5.577 m³/s\n",
      "Expected point flow: 3.492 m³/s\n",
      "  warnings.warn(\n",
      "c:\\Users\\UT6E\\AppData\\Local\\miniforge3\\envs\\py312\\Lib\\site-packages\\ccp\\impeller.py:361: UserWarning: Expected point is being extrapolated.\n",
      "Interpolation limits: 3.973 m³/s ~ 5.577 m³/s\n",
      "Expected point flow: 3.042 m³/s\n",
      "  warnings.warn(\n",
      "c:\\Users\\UT6E\\AppData\\Local\\miniforge3\\envs\\py312\\Lib\\site-packages\\ccp\\impeller.py:361: UserWarning: Expected point is being extrapolated.\n",
      "Interpolation limits: 3.973 m³/s ~ 5.577 m³/s\n",
      "Expected point flow: 3.215 m³/s\n",
      "  warnings.warn(\n",
      "c:\\Users\\UT6E\\AppData\\Local\\miniforge3\\envs\\py312\\Lib\\site-packages\\ccp\\impeller.py:361: UserWarning: Expected point is being extrapolated.\n",
      "Interpolation limits: 3.973 m³/s ~ 5.577 m³/s\n",
      "Expected point flow: 2.751 m³/s\n",
      "  warnings.warn(\n",
      "c:\\Users\\UT6E\\AppData\\Local\\miniforge3\\envs\\py312\\Lib\\site-packages\\ccp\\impeller.py:361: UserWarning: Expected point is being extrapolated.\n",
      "Interpolation limits: 3.973 m³/s ~ 5.577 m³/s\n",
      "Expected point flow: 3.075 m³/s\n",
      "  warnings.warn(\n",
      "c:\\Users\\UT6E\\AppData\\Local\\miniforge3\\envs\\py312\\Lib\\site-packages\\ccp\\impeller.py:361: UserWarning: Expected point is being extrapolated.\n",
      "Interpolation limits: 3.973 m³/s ~ 5.577 m³/s\n",
      "Expected point flow: 5.909 m³/s\n",
      "  warnings.warn(\n",
      "c:\\Users\\UT6E\\AppData\\Local\\miniforge3\\envs\\py312\\Lib\\site-packages\\ccp\\impeller.py:361: UserWarning: Expected point is being extrapolated.\n",
      "Interpolation limits: 3.973 m³/s ~ 5.577 m³/s\n",
      "Expected point flow: 2.629 m³/s\n",
      "  warnings.warn(\n",
      "c:\\Users\\UT6E\\AppData\\Local\\miniforge3\\envs\\py312\\Lib\\site-packages\\ccp\\impeller.py:361: UserWarning: Expected point is being extrapolated.\n",
      "Interpolation limits: 3.973 m³/s ~ 5.577 m³/s\n",
      "Expected point flow: 3.924 m³/s\n",
      "  warnings.warn(\n",
      "c:\\Users\\UT6E\\AppData\\Local\\miniforge3\\envs\\py312\\Lib\\site-packages\\ccp\\impeller.py:361: UserWarning: Expected point is being extrapolated.\n",
      "Interpolation limits: 3.973 m³/s ~ 5.577 m³/s\n",
      "Expected point flow: 6.716 m³/s\n",
      "  warnings.warn(\n",
      "c:\\Users\\UT6E\\AppData\\Local\\miniforge3\\envs\\py312\\Lib\\site-packages\\ccp\\impeller.py:361: UserWarning: Expected point is being extrapolated.\n",
      "Interpolation limits: 3.973 m³/s ~ 5.577 m³/s\n",
      "Expected point flow: 3.644 m³/s\n",
      "  warnings.warn(\n",
      "c:\\Users\\UT6E\\AppData\\Local\\miniforge3\\envs\\py312\\Lib\\site-packages\\ccp\\impeller.py:361: UserWarning: Expected point is being extrapolated.\n",
      "Interpolation limits: 3.973 m³/s ~ 5.577 m³/s\n",
      "Expected point flow: 2.871 m³/s\n",
      "  warnings.warn(\n",
      "c:\\Users\\UT6E\\AppData\\Local\\miniforge3\\envs\\py312\\Lib\\site-packages\\ccp\\impeller.py:361: UserWarning: Expected point is being extrapolated.\n",
      "Interpolation limits: 3.973 m³/s ~ 5.577 m³/s\n",
      "Expected point flow: 3.221 m³/s\n",
      "  warnings.warn(\n",
      "c:\\Users\\UT6E\\AppData\\Local\\miniforge3\\envs\\py312\\Lib\\site-packages\\ccp\\impeller.py:361: UserWarning: Expected point is being extrapolated.\n",
      "Interpolation limits: 3.973 m³/s ~ 5.577 m³/s\n",
      "Expected point flow: 6.363 m³/s\n",
      "  warnings.warn(\n",
      "c:\\Users\\UT6E\\AppData\\Local\\miniforge3\\envs\\py312\\Lib\\site-packages\\ccp\\impeller.py:361: UserWarning: Expected point is being extrapolated.\n",
      "Interpolation limits: 3.973 m³/s ~ 5.577 m³/s\n",
      "Expected point flow: 3.791 m³/s\n",
      "  warnings.warn(\n",
      "c:\\Users\\UT6E\\AppData\\Local\\miniforge3\\envs\\py312\\Lib\\site-packages\\ccp\\impeller.py:361: UserWarning: Expected point is being extrapolated.\n",
      "Interpolation limits: 3.973 m³/s ~ 5.577 m³/s\n",
      "Expected point flow: 3.314 m³/s\n",
      "  warnings.warn(\n",
      "c:\\Users\\UT6E\\AppData\\Local\\miniforge3\\envs\\py312\\Lib\\site-packages\\ccp\\impeller.py:361: UserWarning: Expected point is being extrapolated.\n",
      "Interpolation limits: 3.973 m³/s ~ 5.577 m³/s\n",
      "Expected point flow: 3.731 m³/s\n",
      "  warnings.warn(\n",
      "c:\\Users\\UT6E\\AppData\\Local\\miniforge3\\envs\\py312\\Lib\\site-packages\\ccp\\impeller.py:361: UserWarning: Expected point is being extrapolated.\n",
      "Interpolation limits: 3.973 m³/s ~ 5.577 m³/s\n",
      "Expected point flow: 2.920 m³/s\n",
      "  warnings.warn(\n",
      "c:\\Users\\UT6E\\AppData\\Local\\miniforge3\\envs\\py312\\Lib\\site-packages\\ccp\\impeller.py:361: UserWarning: Expected point is being extrapolated.\n",
      "Interpolation limits: 3.973 m³/s ~ 5.577 m³/s\n",
      "Expected point flow: 3.138 m³/s\n",
      "  warnings.warn(\n",
      "c:\\Users\\UT6E\\AppData\\Local\\miniforge3\\envs\\py312\\Lib\\site-packages\\ccp\\impeller.py:361: UserWarning: Expected point is being extrapolated.\n",
      "Interpolation limits: 3.973 m³/s ~ 5.577 m³/s\n",
      "Expected point flow: 3.411 m³/s\n",
      "  warnings.warn(\n",
      "c:\\Users\\UT6E\\AppData\\Local\\miniforge3\\envs\\py312\\Lib\\site-packages\\ccp\\impeller.py:361: UserWarning: Expected point is being extrapolated.\n",
      "Interpolation limits: 3.973 m³/s ~ 5.577 m³/s\n",
      "Expected point flow: 3.868 m³/s\n",
      "  warnings.warn(\n",
      "c:\\Users\\UT6E\\AppData\\Local\\miniforge3\\envs\\py312\\Lib\\site-packages\\ccp\\impeller.py:361: UserWarning: Expected point is being extrapolated.\n",
      "Interpolation limits: 3.973 m³/s ~ 5.577 m³/s\n",
      "Expected point flow: 6.034 m³/s\n",
      "  warnings.warn(\n"
     ]
    },
    {
     "name": "stdout",
     "output_type": "stream",
     "text": [
      "differential_evolution step 1: f(x)= 605.0\n"
     ]
    },
    {
     "name": "stderr",
     "output_type": "stream",
     "text": [
      "c:\\Users\\UT6E\\AppData\\Local\\miniforge3\\envs\\py312\\Lib\\site-packages\\ccp\\impeller.py:361: UserWarning: Expected point is being extrapolated.\n",
      "Interpolation limits: 3.973 m³/s ~ 5.577 m³/s\n",
      "Expected point flow: 6.213 m³/s\n",
      "  warnings.warn(\n",
      "c:\\Users\\UT6E\\AppData\\Local\\miniforge3\\envs\\py312\\Lib\\site-packages\\ccp\\impeller.py:361: UserWarning: Expected point is being extrapolated.\n",
      "Interpolation limits: 3.973 m³/s ~ 5.577 m³/s\n",
      "Expected point flow: 5.590 m³/s\n",
      "  warnings.warn(\n",
      "c:\\Users\\UT6E\\AppData\\Local\\miniforge3\\envs\\py312\\Lib\\site-packages\\ccp\\impeller.py:361: UserWarning: Expected point is being extrapolated.\n",
      "Interpolation limits: 3.973 m³/s ~ 5.577 m³/s\n",
      "Expected point flow: 6.322 m³/s\n",
      "  warnings.warn(\n",
      "c:\\Users\\UT6E\\AppData\\Local\\miniforge3\\envs\\py312\\Lib\\site-packages\\ccp\\impeller.py:361: UserWarning: Expected point is being extrapolated.\n",
      "Interpolation limits: 3.973 m³/s ~ 5.577 m³/s\n",
      "Expected point flow: 6.026 m³/s\n",
      "  warnings.warn(\n",
      "c:\\Users\\UT6E\\AppData\\Local\\miniforge3\\envs\\py312\\Lib\\site-packages\\ccp\\impeller.py:361: UserWarning: Expected point is being extrapolated.\n",
      "Interpolation limits: 3.973 m³/s ~ 5.577 m³/s\n",
      "Expected point flow: 2.656 m³/s\n",
      "  warnings.warn(\n",
      "c:\\Users\\UT6E\\AppData\\Local\\miniforge3\\envs\\py312\\Lib\\site-packages\\ccp\\impeller.py:361: UserWarning: Expected point is being extrapolated.\n",
      "Interpolation limits: 3.973 m³/s ~ 5.577 m³/s\n",
      "Expected point flow: 5.703 m³/s\n",
      "  warnings.warn(\n"
     ]
    },
    {
     "name": "stdout",
     "output_type": "stream",
     "text": [
      "differential_evolution step 2: f(x)= 605.0\n"
     ]
    },
    {
     "name": "stderr",
     "output_type": "stream",
     "text": [
      "c:\\Users\\UT6E\\AppData\\Local\\miniforge3\\envs\\py312\\Lib\\site-packages\\ccp\\impeller.py:361: UserWarning: Expected point is being extrapolated.\n",
      "Interpolation limits: 3.973 m³/s ~ 5.577 m³/s\n",
      "Expected point flow: 5.796 m³/s\n",
      "  warnings.warn(\n",
      "c:\\Users\\UT6E\\AppData\\Local\\miniforge3\\envs\\py312\\Lib\\site-packages\\ccp\\impeller.py:361: UserWarning: Expected point is being extrapolated.\n",
      "Interpolation limits: 3.973 m³/s ~ 5.577 m³/s\n",
      "Expected point flow: 6.186 m³/s\n",
      "  warnings.warn(\n",
      "c:\\Users\\UT6E\\AppData\\Local\\miniforge3\\envs\\py312\\Lib\\site-packages\\ccp\\impeller.py:361: UserWarning: Expected point is being extrapolated.\n",
      "Interpolation limits: 3.973 m³/s ~ 5.577 m³/s\n",
      "Expected point flow: 5.606 m³/s\n",
      "  warnings.warn(\n"
     ]
    },
    {
     "name": "stdout",
     "output_type": "stream",
     "text": [
      "differential_evolution step 3: f(x)= 605.0\n"
     ]
    },
    {
     "name": "stderr",
     "output_type": "stream",
     "text": [
      "c:\\Users\\UT6E\\AppData\\Local\\miniforge3\\envs\\py312\\Lib\\site-packages\\ccp\\impeller.py:361: UserWarning: Expected point is being extrapolated.\n",
      "Interpolation limits: 3.973 m³/s ~ 5.577 m³/s\n",
      "Expected point flow: 5.892 m³/s\n",
      "  warnings.warn(\n",
      "c:\\Users\\UT6E\\AppData\\Local\\miniforge3\\envs\\py312\\Lib\\site-packages\\ccp\\impeller.py:361: UserWarning: Expected point is being extrapolated.\n",
      "Interpolation limits: 3.973 m³/s ~ 5.577 m³/s\n",
      "Expected point flow: 5.665 m³/s\n",
      "  warnings.warn(\n"
     ]
    },
    {
     "name": "stdout",
     "output_type": "stream",
     "text": [
      "differential_evolution step 4: f(x)= 89.0\n",
      "differential_evolution step 5: f(x)= 73.0\n",
      "differential_evolution step 6: f(x)= 40.0\n",
      "differential_evolution step 7: f(x)= 3.0\n",
      "differential_evolution step 8: f(x)= 3.0\n",
      "differential_evolution step 9: f(x)= 3.0\n",
      "differential_evolution step 10: f(x)= 2.0\n",
      "differential_evolution step 11: f(x)= 1.0\n",
      "Polishing solution with 'L-BFGS-B'\n",
      "\n",
      "Resultado final com differential_evolution:\n",
      "x*:  [50.38398841]\n",
      "f(x*):  1.0\n",
      "\n",
      "Histórico de iterações:\n",
      "Iter 1: x = [50.2332074], f(x) = 605.0\n",
      "Iter 2: x = [50.2332074], f(x) = 605.0\n",
      "Iter 3: x = [50.2332074], f(x) = 605.0\n",
      "Iter 4: x = [50.40470229], f(x) = 89.0\n",
      "Iter 5: x = [50.40237056], f(x) = 73.0\n",
      "Iter 6: x = [50.37441807], f(x) = 40.0\n",
      "Iter 7: x = [50.38515888], f(x) = 3.0\n",
      "Iter 8: x = [50.38515888], f(x) = 3.0\n",
      "Iter 9: x = [50.38515888], f(x) = 3.0\n",
      "Iter 10: x = [50.38472269], f(x) = 2.0\n",
      "Iter 11: x = [50.38398841], f(x) = 1.0\n"
     ]
    }
   ],
   "source": [
    "def update_flow(x, *args):\n",
    "    \n",
    "    flow_m_1 = x[0]\n",
    "    speed = args[2]\n",
    "    Ts_2sec = args[3]\n",
    "    point_1sec = imp_1sec.point(flow_m= flow_m_1, speed=speed)\n",
    "    Pd_1sec = point_1sec.disch.p().m\n",
    "    Pd_2sec = args[0]\n",
    "    press_drop = args[1]               ## perda de carga no trocador de calor\n",
    "    Ps_2sec = Pd_1sec - press_drop   \n",
    "\n",
    "    disch = point_1sec.disch\n",
    "    disch.update(p=Ps_2sec, T=Ts_2sec)\n",
    "    gas_rate = disch.Q()                                                                         #Fração mássica de gás após condensação\n",
    "    base_fluid_2sec = {k: v for k, v in zip(disch.fluid_names(), disch.mole_fractions_vapor())}         #composição do gás após condensação\n",
    "\n",
    "    new_suc_2sec = ccp.State(\n",
    "        p=Ps_2sec, # original set 5.48 kgf/cm²\n",
    "        T=Ts_2sec,\n",
    "        fluid=base_fluid_2sec\n",
    "    )\n",
    "\n",
    "    new_imp_2sec = ccp.Impeller.load_from_engauge_csv(\n",
    "        suc=new_suc_2sec,\n",
    "        curve_name=\"curve_2sec_custom\",\n",
    "        curve_path=data_dir,\n",
    "        b=Q_(5, \"mm\"),\n",
    "        D=Q_(294, \"mm\"),\n",
    "        head_units=\"kJ/kg\",\n",
    "        flow_units=\"m³/h\",\n",
    "        power_losses_units = \"kW\",\n",
    "        number_of_points=5,\n",
    "    )\n",
    "    \n",
    "    flow_m_2 = gas_rate*x[0]\n",
    "    new_point_2sec= new_imp_2sec.point(flow_m= flow_m_2, speed=speed)\n",
    "    Pd_2_calc = new_point_2sec.disch.p().to(\"Pa\").m\n",
    "    Pd_2_calc = round(Pd_2_calc/100,0)                                          #mudando para hPa e arredondando para a convergencia não ficar caótica\n",
    "    Pd_2sec = round(Pd_2sec/100,0)\n",
    "\n",
    "    mod = abs(Pd_2_calc- Pd_2sec)\n",
    "\n",
    "    return mod\n",
    "\n",
    "# Lista para registrar histórico\n",
    "history = []\n",
    "\n",
    "# Callback que salva o histórico e para se f(x) <= 1\n",
    "def save_history_and_stop(xk, convergence):\n",
    "    fx = update_flow(xk,*args)\n",
    "    history.append((xk.copy(), fx))\n",
    "    \n",
    "    # Interrompe a otimização quando f(x) <= 1\n",
    "    return fx <= 1\n",
    "\n",
    "\n",
    "# LIMITES \n",
    "bounds = [(imp_1sec.curves[1].points[0].flow_m.m, imp_1sec.curves[1].points[-1].flow_m.m)]\n",
    "\n",
    "\n",
    "# Executar otimização\n",
    "res = differential_evolution(\n",
    "    update_flow,\n",
    "    bounds=bounds,\n",
    "    args=args,\n",
    "    strategy='best1bin',\n",
    "    maxiter=1000,\n",
    "    tol = 0.1,\n",
    "    polish=True,\n",
    "    disp=True,\n",
    "    callback=save_history_and_stop,\n",
    ")\n",
    "\n",
    "# Resultado\n",
    "print(\"\\nResultado final com differential_evolution:\")\n",
    "print(\"x*: \", res.x)\n",
    "print(\"f(x*): \", res.fun)\n",
    "\n",
    "# Histórico\n",
    "print(\"\\nHistórico de iterações:\")\n",
    "for i, (x_val, f_val) in enumerate(history):\n",
    "    print(f\"Iter {i+1}: x = {x_val}, f(x) = {f_val}\")\n",
    "\n",
    "    "
   ]
  },
  {
   "cell_type": "markdown",
   "id": "5bcd406d",
   "metadata": {},
   "source": [
    "## Imprimindo Resultados"
   ]
  },
  {
   "cell_type": "code",
   "execution_count": 12,
   "id": "79ebf9f4",
   "metadata": {},
   "outputs": [],
   "source": [
    "flow_m_1 = res.x[0]\n",
    "speed = imp_1sec.curves[1].speed\n",
    "point_1sec = imp_1sec.point(flow_m= flow_m_1, speed=speed)\n",
    "Pd_1sec = point_1sec.disch.p().m\n",
    "Pd_2sec = args[0]\n",
    "Ps_2sec = Q_((Pd_1sec - 50013.915), \"Pa\")   ### 0.51 kgf/cm² = 61781.895 pascal\n",
    "\n",
    "disch = point_1sec.disch\n",
    "disch.update(p=Ps_2sec, T=Ts_2)\n",
    "gas_rate = disch.Q()                                                                         #Fração mássica de gás após condensação\n",
    "base_fluid_2sec = {k: v for k, v in zip(disch.fluid_names(), disch.mole_fractions_vapor())}         #composição do gás após condensação\n",
    "\n",
    "new_suc_2sec = ccp.State(\n",
    "    p=Ps_2sec, # original set 5.48 kgf/cm²\n",
    "    T=Ts_2,\n",
    "    fluid=base_fluid_2sec\n",
    ")\n",
    "\n",
    "new_imp_2sec = ccp.Impeller.load_from_engauge_csv(\n",
    "    suc=new_suc_2sec,\n",
    "    curve_name=\"curve_2sec_custom\",\n",
    "    curve_path=data_dir,\n",
    "    b=Q_(5, \"mm\"),\n",
    "    D=Q_(294, \"mm\"),\n",
    "    head_units=\"kJ/kg\",\n",
    "    flow_units=\"m³/h\",\n",
    "    power_losses_units = \"kW\",\n",
    "    number_of_points=5,\n",
    ")\n",
    "\n",
    "flow_m_1 = res.x[0]\n",
    "speed = imp_1sec.curves[1].speed\n",
    "point_1sec = imp_1sec.point(flow_m= flow_m_1, speed=speed)\n",
    "\n",
    "flow_m_2 = gas_rate*res.x[0]\n",
    "speed = new_imp_2sec.curves[1].speed\n",
    "new_point_2sec= new_imp_2sec.point(flow_m= flow_m_2, speed=speed)\n",
    "\n"
   ]
  },
  {
   "cell_type": "code",
   "execution_count": 13,
   "id": "37cc8881",
   "metadata": {},
   "outputs": [],
   "source": [
    "book = xw.Book(\"WET_GAS_pressao_interestagio.xlsx\")\n",
    "\n",
    "def export_excel(new_point, column, sheet):\n",
    "    \n",
    "    mass_flow = new_point.flow_v * new_point.suc.rho()\n",
    "    sheet.cells(4,column).value = mass_flow.to(\"kg/h\").m\n",
    "\n",
    "    sheet.cells(6,column).value = new_point.suc.p().to(\"kgf/cm²\").m\n",
    "    sheet.cells(7,column).value = new_point.suc.T().to(\"degC\").m\n",
    "    sheet.cells(8,column).value = new_point.suc.molar_mass().to(\"kg/kmol\").m\n",
    "    sheet.cells(9,column).value = new_point.flow_v.to(\"m**3/h\").m\n",
    "\n",
    "    sheet.cells(11,column).value = new_point.disch.p().to(\"kgf/cm²\").m\n",
    "    sheet.cells(12,column).value = new_point.disch.T().to(\"degC\").m\n",
    "\n",
    "    sheet.cells(14,column).value = new_point.power.to(\"kW\").m\n",
    "    #sheet.cells(15,column).value = new_point.power_shaft.to(\"kW\").m\n",
    "    sheet.cells(16,column).value = new_point.speed.to(\"rpm\").m\n",
    "    sheet.cells(17,column).value = new_point.head.to(\"kJ/kg\").m\n",
    "    sheet.cells(18,column).value = new_point.eff.m * 100\n",
    "    #sheet.cells(19,column).value = new_point.torque.to(\"N*m\").m\n",
    "\n",
    "iteration = 5\n",
    "\n",
    "export_excel(point_1sec, column = 3+(iteration*2),sheet = book.sheets[\"main\"])\n",
    "export_excel(new_point_2sec, column = 4+(iteration*2),sheet = book.sheets[\"main\"])\n",
    "\n"
   ]
  },
  {
   "cell_type": "code",
   "execution_count": 14,
   "id": "25be29ad",
   "metadata": {},
   "outputs": [
    {
     "data": {
      "application/vnd.plotly.v1+json": {
       "config": {
        "plotlyServerURL": "https://plot.ly"
       },
       "data": [
        {
         "name": "5086.0 revolutions_per_minute",
         "type": "scatter",
         "x": [
          46700.2,
          47493.43448275862,
          48286.66896551724,
          49079.90344827586,
          49873.13793103448,
          50666.3724137931,
          51459.606896551726,
          52252.84137931034,
          53046.07586206897,
          53839.31034482758,
          54632.54482758621,
          55425.77931034483,
          56219.01379310345,
          57012.24827586207,
          57805.48275862069,
          58598.71724137931,
          59391.95172413793,
          60185.18620689654,
          60978.42068965517,
          61771.65517241379,
          62564.88965517241,
          63358.12413793104,
          64151.35862068966,
          64944.59310344827,
          65737.8275862069,
          66531.06206896552,
          67324.29655172414,
          68117.53103448276,
          68910.76551724138,
          69704
         ],
         "y": [
          100.919,
          100.76525659302432,
          100.57401635548361,
          100.34437504499012,
          100.07542841915605,
          99.76627223559365,
          99.41600225191516,
          99.02371422573276,
          98.58850391465873,
          98.10946707630526,
          97.58569946828459,
          97.01629684820895,
          96.40035497369058,
          95.73696960234167,
          95.0252364917745,
          94.26397104262459,
          93.44554044506475,
          92.5558636788049,
          91.58057936657829,
          90.50532613111821,
          89.31574259515799,
          87.99746738143085,
          86.53613911267011,
          84.91739641160909,
          83.12687790098101,
          81.15022220351916,
          78.97306794195687,
          76.58105373902741,
          73.959818217464,
          71.095
         ]
        },
        {
         "name": "5354.0 revolutions_per_minute",
         "type": "scatter",
         "x": [
          54112.5,
          54892.51724137931,
          55672.53448275862,
          56452.551724137935,
          57232.56896551724,
          58012.58620689656,
          58792.60344827587,
          59572.62068965517,
          60352.637931034486,
          61132.6551724138,
          61912.67241379311,
          62692.68965517241,
          63472.706896551725,
          64252.724137931036,
          65032.74137931035,
          65812.75862068965,
          66592.77586206897,
          67372.79310344828,
          68152.8103448276,
          68932.8275862069,
          69712.8448275862,
          70492.86206896552,
          71272.87931034483,
          72052.89655172414,
          72832.91379310345,
          73612.93103448275,
          74392.94827586207,
          75172.96551724138,
          75952.98275862068,
          76733
         ],
         "y": [
          111.45070229031741,
          111.31010485504828,
          111.107950365999,
          110.8463550017174,
          110.52743494075138,
          110.1533063616489,
          109.72608544295784,
          109.24788836322608,
          108.7208313010016,
          108.14703043483225,
          107.52860194326597,
          106.86766200485064,
          106.16632679813418,
          105.42671250166448,
          104.65093529398949,
          103.84050301673277,
          102.982931762259,
          102.05174587367391,
          101.01986135715887,
          99.8601942188953,
          98.54566046506459,
          97.04917610184818,
          95.34365713542745,
          93.40201957198384,
          91.19717941769876,
          88.70205267875355,
          85.88955536132967,
          82.73260347160854,
          79.2041130157715,
          75.277
         ]
        },
        {
         "name": "5621.0 revolutions_per_minute",
         "type": "scatter",
         "x": [
          63633.59999999999,
          64302.893103448274,
          64972.18620689655,
          65641.47931034483,
          66310.77241379309,
          66980.06551724138,
          67649.35862068966,
          68318.65172413793,
          68987.94482758621,
          69657.23793103448,
          70326.53103448276,
          70995.82413793103,
          71665.11724137931,
          72334.41034482759,
          73003.70344827586,
          73672.99655172414,
          74342.28965517241,
          75011.5827586207,
          75680.87586206896,
          76350.16896551725,
          77019.46206896551,
          77688.7551724138,
          78358.04827586206,
          79027.34137931035,
          79696.63448275863,
          80365.9275862069,
          81035.22068965518,
          81704.51379310346,
          82373.80689655175,
          83043.1
         ],
         "y": [
          121.648,
          121.47160851921981,
          121.23455132731476,
          120.93876860437005,
          120.5862005304708,
          120.1787872857022,
          119.71846905014942,
          119.2071860038976,
          118.64687832703198,
          118.03948619963762,
          117.38694980179974,
          116.6912093136035,
          115.95420491513408,
          115.1778767864766,
          114.36416510771627,
          113.51432848993693,
          112.61394945719346,
          111.63293444651141,
          110.54050832591524,
          109.3058959634293,
          107.89832222707803,
          106.2870119848858,
          104.44119010487694,
          102.33008145507594,
          99.9229109035071,
          97.18890331819492,
          94.09728356716377,
          90.61727651843789,
          86.71810704004183,
          82.36899999999999
         ]
        },
        {
         "name": "5354.0 revolutions_per_minute",
         "type": "scatter",
         "x": [
          54112.5,
          54892.51724137931,
          55672.53448275862,
          56452.551724137935,
          57232.56896551724,
          58012.58620689656,
          58792.60344827587,
          59572.62068965517,
          60352.637931034486,
          61132.6551724138,
          61912.67241379311,
          62692.68965517241,
          63472.706896551725,
          64252.724137931036,
          65032.74137931035,
          65812.75862068965,
          66592.77586206897,
          67372.79310344828,
          68152.8103448276,
          68932.8275862069,
          69712.8448275862,
          70492.86206896552,
          71272.87931034483,
          72052.89655172414,
          72832.91379310345,
          73612.93103448275,
          74392.94827586207,
          75172.96551724138,
          75952.98275862068,
          76733
         ],
         "y": [
          111.45070296719895,
          111.31010541602492,
          111.10795082894694,
          110.8463553829959,
          110.52743525520279,
          110.15330662259858,
          109.72608566221417,
          109.24788855108056,
          108.72083146622866,
          108.14703058468943,
          107.52860208349385,
          106.86766213967283,
          106.16632693025736,
          105.42671263227834,
          104.65093542276671,
          103.8405031418866,
          102.98293188186364,
          102.05174598698513,
          101.0198614646714,
          99.86019432234292,
          98.54566056742001,
          97.0491762073231,
          95.34365724947254,
          93.40201970128875,
          91.19717957019216,
          88.70205286360309,
          85.8895555889419,
          82.73260375362909,
          79.20411336508495,
          75.27700043072991
         ]
        },
        {
         "name": "Flow: 72852.63, head: 89.94",
         "type": "scatter",
         "x": [
          72852.6281846511
         ],
         "y": [
          89.94108377791505
         ]
        }
       ],
       "layout": {
        "height": 450,
        "template": {
         "data": {
          "bar": [
           {
            "error_x": {
             "color": "#2a3f5f"
            },
            "error_y": {
             "color": "#2a3f5f"
            },
            "marker": {
             "line": {
              "color": "white",
              "width": 0.5
             }
            },
            "type": "bar"
           }
          ],
          "barpolar": [
           {
            "marker": {
             "line": {
              "color": "white",
              "width": 0.5
             }
            },
            "type": "barpolar"
           }
          ],
          "carpet": [
           {
            "aaxis": {
             "endlinecolor": "#2a3f5f",
             "gridcolor": "#C8D4E3",
             "linecolor": "#C8D4E3",
             "minorgridcolor": "#C8D4E3",
             "startlinecolor": "#2a3f5f"
            },
            "baxis": {
             "endlinecolor": "#2a3f5f",
             "gridcolor": "#C8D4E3",
             "linecolor": "#C8D4E3",
             "minorgridcolor": "#C8D4E3",
             "startlinecolor": "#2a3f5f"
            },
            "type": "carpet"
           }
          ],
          "choropleth": [
           {
            "colorbar": {
             "outlinewidth": 0,
             "ticks": ""
            },
            "type": "choropleth"
           }
          ],
          "contour": [
           {
            "colorbar": {
             "outlinewidth": 0,
             "ticks": ""
            },
            "colorscale": [
             [
              0,
              "#0d0887"
             ],
             [
              0.1111111111111111,
              "#46039f"
             ],
             [
              0.2222222222222222,
              "#7201a8"
             ],
             [
              0.3333333333333333,
              "#9c179e"
             ],
             [
              0.4444444444444444,
              "#bd3786"
             ],
             [
              0.5555555555555556,
              "#d8576b"
             ],
             [
              0.6666666666666666,
              "#ed7953"
             ],
             [
              0.7777777777777778,
              "#fb9f3a"
             ],
             [
              0.8888888888888888,
              "#fdca26"
             ],
             [
              1,
              "#f0f921"
             ]
            ],
            "type": "contour"
           }
          ],
          "contourcarpet": [
           {
            "colorbar": {
             "outlinewidth": 0,
             "ticks": ""
            },
            "type": "contourcarpet"
           }
          ],
          "heatmap": [
           {
            "colorbar": {
             "outlinewidth": 0,
             "ticks": ""
            },
            "colorscale": [
             [
              0,
              "#0d0887"
             ],
             [
              0.1111111111111111,
              "#46039f"
             ],
             [
              0.2222222222222222,
              "#7201a8"
             ],
             [
              0.3333333333333333,
              "#9c179e"
             ],
             [
              0.4444444444444444,
              "#bd3786"
             ],
             [
              0.5555555555555556,
              "#d8576b"
             ],
             [
              0.6666666666666666,
              "#ed7953"
             ],
             [
              0.7777777777777778,
              "#fb9f3a"
             ],
             [
              0.8888888888888888,
              "#fdca26"
             ],
             [
              1,
              "#f0f921"
             ]
            ],
            "type": "heatmap"
           }
          ],
          "heatmapgl": [
           {
            "colorbar": {
             "outlinewidth": 0,
             "ticks": ""
            },
            "colorscale": [
             [
              0,
              "#0d0887"
             ],
             [
              0.1111111111111111,
              "#46039f"
             ],
             [
              0.2222222222222222,
              "#7201a8"
             ],
             [
              0.3333333333333333,
              "#9c179e"
             ],
             [
              0.4444444444444444,
              "#bd3786"
             ],
             [
              0.5555555555555556,
              "#d8576b"
             ],
             [
              0.6666666666666666,
              "#ed7953"
             ],
             [
              0.7777777777777778,
              "#fb9f3a"
             ],
             [
              0.8888888888888888,
              "#fdca26"
             ],
             [
              1,
              "#f0f921"
             ]
            ],
            "type": "heatmapgl"
           }
          ],
          "histogram": [
           {
            "marker": {
             "colorbar": {
              "outlinewidth": 0,
              "ticks": ""
             }
            },
            "type": "histogram"
           }
          ],
          "histogram2d": [
           {
            "colorbar": {
             "outlinewidth": 0,
             "ticks": ""
            },
            "colorscale": [
             [
              0,
              "#0d0887"
             ],
             [
              0.1111111111111111,
              "#46039f"
             ],
             [
              0.2222222222222222,
              "#7201a8"
             ],
             [
              0.3333333333333333,
              "#9c179e"
             ],
             [
              0.4444444444444444,
              "#bd3786"
             ],
             [
              0.5555555555555556,
              "#d8576b"
             ],
             [
              0.6666666666666666,
              "#ed7953"
             ],
             [
              0.7777777777777778,
              "#fb9f3a"
             ],
             [
              0.8888888888888888,
              "#fdca26"
             ],
             [
              1,
              "#f0f921"
             ]
            ],
            "type": "histogram2d"
           }
          ],
          "histogram2dcontour": [
           {
            "colorbar": {
             "outlinewidth": 0,
             "ticks": ""
            },
            "colorscale": [
             [
              0,
              "#0d0887"
             ],
             [
              0.1111111111111111,
              "#46039f"
             ],
             [
              0.2222222222222222,
              "#7201a8"
             ],
             [
              0.3333333333333333,
              "#9c179e"
             ],
             [
              0.4444444444444444,
              "#bd3786"
             ],
             [
              0.5555555555555556,
              "#d8576b"
             ],
             [
              0.6666666666666666,
              "#ed7953"
             ],
             [
              0.7777777777777778,
              "#fb9f3a"
             ],
             [
              0.8888888888888888,
              "#fdca26"
             ],
             [
              1,
              "#f0f921"
             ]
            ],
            "type": "histogram2dcontour"
           }
          ],
          "mesh3d": [
           {
            "colorbar": {
             "outlinewidth": 0,
             "ticks": ""
            },
            "type": "mesh3d"
           }
          ],
          "parcoords": [
           {
            "line": {
             "colorbar": {
              "outlinewidth": 0,
              "ticks": ""
             }
            },
            "type": "parcoords"
           }
          ],
          "pie": [
           {
            "automargin": true,
            "type": "pie"
           }
          ],
          "scatter": [
           {
            "marker": {
             "colorbar": {
              "outlinewidth": 0,
              "ticks": ""
             }
            },
            "type": "scatter"
           }
          ],
          "scatter3d": [
           {
            "line": {
             "colorbar": {
              "outlinewidth": 0,
              "ticks": ""
             }
            },
            "marker": {
             "colorbar": {
              "outlinewidth": 0,
              "ticks": ""
             }
            },
            "type": "scatter3d"
           }
          ],
          "scattercarpet": [
           {
            "marker": {
             "colorbar": {
              "outlinewidth": 0,
              "ticks": ""
             }
            },
            "type": "scattercarpet"
           }
          ],
          "scattergeo": [
           {
            "marker": {
             "colorbar": {
              "outlinewidth": 0,
              "ticks": ""
             }
            },
            "type": "scattergeo"
           }
          ],
          "scattergl": [
           {
            "marker": {
             "colorbar": {
              "outlinewidth": 0,
              "ticks": ""
             }
            },
            "type": "scattergl"
           }
          ],
          "scattermapbox": [
           {
            "marker": {
             "colorbar": {
              "outlinewidth": 0,
              "ticks": ""
             }
            },
            "type": "scattermapbox"
           }
          ],
          "scatterpolar": [
           {
            "marker": {
             "colorbar": {
              "outlinewidth": 0,
              "ticks": ""
             }
            },
            "type": "scatterpolar"
           }
          ],
          "scatterpolargl": [
           {
            "marker": {
             "colorbar": {
              "outlinewidth": 0,
              "ticks": ""
             }
            },
            "type": "scatterpolargl"
           }
          ],
          "scatterternary": [
           {
            "marker": {
             "colorbar": {
              "outlinewidth": 0,
              "ticks": ""
             }
            },
            "type": "scatterternary"
           }
          ],
          "surface": [
           {
            "colorbar": {
             "outlinewidth": 0,
             "ticks": ""
            },
            "colorscale": [
             [
              0,
              "#0d0887"
             ],
             [
              0.1111111111111111,
              "#46039f"
             ],
             [
              0.2222222222222222,
              "#7201a8"
             ],
             [
              0.3333333333333333,
              "#9c179e"
             ],
             [
              0.4444444444444444,
              "#bd3786"
             ],
             [
              0.5555555555555556,
              "#d8576b"
             ],
             [
              0.6666666666666666,
              "#ed7953"
             ],
             [
              0.7777777777777778,
              "#fb9f3a"
             ],
             [
              0.8888888888888888,
              "#fdca26"
             ],
             [
              1,
              "#f0f921"
             ]
            ],
            "type": "surface"
           }
          ],
          "table": [
           {
            "cells": {
             "fill": {
              "color": "#EBF0F8"
             },
             "line": {
              "color": "white"
             }
            },
            "header": {
             "fill": {
              "color": "#C8D4E3"
             },
             "line": {
              "color": "white"
             }
            },
            "type": "table"
           }
          ]
         },
         "layout": {
          "annotationdefaults": {
           "arrowcolor": "#2a3f5f",
           "arrowhead": 0,
           "arrowwidth": 1
          },
          "coloraxis": {
           "colorbar": {
            "outlinewidth": 0,
            "ticks": ""
           }
          },
          "colorscale": {
           "diverging": [
            [
             0,
             "#8e0152"
            ],
            [
             0.1,
             "#c51b7d"
            ],
            [
             0.2,
             "#de77ae"
            ],
            [
             0.3,
             "#f1b6da"
            ],
            [
             0.4,
             "#fde0ef"
            ],
            [
             0.5,
             "#f7f7f7"
            ],
            [
             0.6,
             "#e6f5d0"
            ],
            [
             0.7,
             "#b8e186"
            ],
            [
             0.8,
             "#7fbc41"
            ],
            [
             0.9,
             "#4d9221"
            ],
            [
             1,
             "#276419"
            ]
           ],
           "sequential": [
            [
             0,
             "#0d0887"
            ],
            [
             0.1111111111111111,
             "#46039f"
            ],
            [
             0.2222222222222222,
             "#7201a8"
            ],
            [
             0.3333333333333333,
             "#9c179e"
            ],
            [
             0.4444444444444444,
             "#bd3786"
            ],
            [
             0.5555555555555556,
             "#d8576b"
            ],
            [
             0.6666666666666666,
             "#ed7953"
            ],
            [
             0.7777777777777778,
             "#fb9f3a"
            ],
            [
             0.8888888888888888,
             "#fdca26"
            ],
            [
             1,
             "#f0f921"
            ]
           ],
           "sequentialminus": [
            [
             0,
             "#0d0887"
            ],
            [
             0.1111111111111111,
             "#46039f"
            ],
            [
             0.2222222222222222,
             "#7201a8"
            ],
            [
             0.3333333333333333,
             "#9c179e"
            ],
            [
             0.4444444444444444,
             "#bd3786"
            ],
            [
             0.5555555555555556,
             "#d8576b"
            ],
            [
             0.6666666666666666,
             "#ed7953"
            ],
            [
             0.7777777777777778,
             "#fb9f3a"
            ],
            [
             0.8888888888888888,
             "#fdca26"
            ],
            [
             1,
             "#f0f921"
            ]
           ]
          },
          "colorway": [
           "#1f77b4",
           "#ff7f0e",
           "#2ca02c",
           "#d62728",
           "#9467bd",
           "#8c564b",
           "#e377c2",
           "#7f7f7f",
           "#bcbd22",
           "#17becf"
          ],
          "font": {
           "color": "#2a3f5f"
          },
          "geo": {
           "bgcolor": "white",
           "lakecolor": "white",
           "landcolor": "white",
           "showlakes": true,
           "showland": true,
           "subunitcolor": "#C8D4E3"
          },
          "hoverlabel": {
           "align": "left"
          },
          "hovermode": "closest",
          "mapbox": {
           "style": "light"
          },
          "paper_bgcolor": "white",
          "plot_bgcolor": "white",
          "polar": {
           "angularaxis": {
            "gridcolor": "#EBF0F8",
            "linecolor": "#EBF0F8",
            "ticks": ""
           },
           "bgcolor": "white",
           "radialaxis": {
            "gridcolor": "#EBF0F8",
            "linecolor": "#EBF0F8",
            "ticks": ""
           }
          },
          "scene": {
           "xaxis": {
            "backgroundcolor": "white",
            "gridcolor": "#DFE8F3",
            "gridwidth": 2,
            "linecolor": "#EBF0F8",
            "showbackground": true,
            "showspikes": false,
            "ticks": "",
            "zerolinecolor": "#EBF0F8"
           },
           "yaxis": {
            "backgroundcolor": "white",
            "gridcolor": "#DFE8F3",
            "gridwidth": 2,
            "linecolor": "#EBF0F8",
            "showbackground": true,
            "showspikes": false,
            "ticks": "",
            "zerolinecolor": "#EBF0F8"
           },
           "zaxis": {
            "backgroundcolor": "white",
            "gridcolor": "#DFE8F3",
            "gridwidth": 2,
            "linecolor": "#EBF0F8",
            "showbackground": true,
            "showspikes": false,
            "ticks": "",
            "zerolinecolor": "#EBF0F8"
           }
          },
          "shapedefaults": {
           "line": {
            "color": "#2a3f5f"
           }
          },
          "ternary": {
           "aaxis": {
            "gridcolor": "#DFE8F3",
            "linecolor": "#A2B1C6",
            "ticks": ""
           },
           "baxis": {
            "gridcolor": "#DFE8F3",
            "linecolor": "#A2B1C6",
            "ticks": ""
           },
           "bgcolor": "white",
           "caxis": {
            "gridcolor": "#DFE8F3",
            "linecolor": "#A2B1C6",
            "ticks": ""
           }
          },
          "title": {
           "x": 0.05
          },
          "xaxis": {
           "automargin": true,
           "gridcolor": "#EBF0F8",
           "linecolor": "black",
           "linewidth": 2,
           "mirror": true,
           "showline": true,
           "ticks": "",
           "title": {
            "standoff": 15
           },
           "zeroline": false,
           "zerolinecolor": "#EBF0F8",
           "zerolinewidth": 2
          },
          "yaxis": {
           "automargin": true,
           "gridcolor": "#EBF0F8",
           "linecolor": "black",
           "linewidth": 2,
           "mirror": true,
           "showline": true,
           "ticks": "",
           "title": {
            "standoff": 15
           },
           "zeroline": false,
           "zerolinecolor": "#EBF0F8",
           "zerolinewidth": 2
          }
         }
        },
        "width": 800,
        "xaxis": {
         "range": [
          44883.05499999999,
          84860.24500000001
         ],
         "title": {
          "text": "Volume Flow (m<sup>3</sup>/h)"
         }
        },
        "yaxis": {
         "title": {
          "text": "Head (kJ/kg)"
         }
        }
       }
      }
     },
     "metadata": {},
     "output_type": "display_data"
    }
   ],
   "source": [
    "fig = imp_1sec.head_plot(flow_v_units=\"m**3/h\",head_units=\"kJ/kg\",\n",
    "                    speed_units=\"rpm\",flow_v= point_1sec.flow_v, speed = point_1sec.speed)\n",
    "fig.update_layout(height=450,width=800)"
   ]
  },
  {
   "cell_type": "code",
   "execution_count": 15,
   "id": "6d734be9",
   "metadata": {},
   "outputs": [
    {
     "data": {
      "application/vnd.plotly.v1+json": {
       "config": {
        "plotlyServerURL": "https://plot.ly"
       },
       "data": [
        {
         "name": "5086.0 revolutions_per_minute",
         "type": "scatter",
         "x": [
          12131.4,
          12339.879310344828,
          12548.358620689654,
          12756.837931034483,
          12965.317241379309,
          13173.796551724137,
          13382.275862068966,
          13590.755172413792,
          13799.23448275862,
          14007.713793103447,
          14216.193103448275,
          14424.672413793103,
          14633.15172413793,
          14841.63103448276,
          15050.110344827584,
          15258.589655172414,
          15467.06896551724,
          15675.54827586207,
          15884.027586206896,
          16092.506896551724,
          16300.98620689655,
          16509.46551724138,
          16717.944827586205,
          16926.424137931033,
          17134.90344827586,
          17343.38275862069,
          17551.862068965514,
          17760.341379310343,
          17968.820689655175,
          18177.3
         ],
         "y": [
          98.97745332126175,
          98.7386711766511,
          98.46635410232626,
          98.16188960209894,
          97.82666517978063,
          97.4620683391831,
          97.0694865841179,
          96.6503074183967,
          96.20591834583112,
          95.73770687023283,
          95.2470604954134,
          94.73536672518446,
          94.20401306335769,
          93.65438701374472,
          93.08787608015714,
          92.50546309509615,
          91.89882345092181,
          91.25032509985317,
          90.54193132279892,
          89.7556054006675,
          88.87331061436755,
          87.87701024480766,
          86.74866757289644,
          85.47024587954238,
          84.02370844565411,
          82.39101855214025,
          80.55413947990931,
          78.4950345098699,
          76.19566692293057,
          73.63799999999999
         ]
        },
        {
         "name": "5354.0 revolutions_per_minute",
         "type": "scatter",
         "x": [
          14302.9,
          14502.068965517243,
          14701.237931034484,
          14900.406896551724,
          15099.575862068965,
          15298.744827586206,
          15497.91379310345,
          15697.08275862069,
          15896.251724137932,
          16095.420689655171,
          16294.589655172413,
          16493.758620689656,
          16692.927586206897,
          16892.09655172414,
          17091.26551724138,
          17290.43448275862,
          17489.603448275862,
          17688.772413793104,
          17887.941379310345,
          18087.110344827586,
          18286.279310344828,
          18485.448275862072,
          18684.617241379314,
          18883.78620689655,
          19082.955172413793,
          19282.124137931034,
          19481.293103448275,
          19680.462068965517,
          19879.63103448276,
          20078.8
         ],
         "y": [
          108.68201692386165,
          108.44889436950855,
          108.18557615054524,
          107.89272212831548,
          107.57099216416312,
          107.221046119432,
          106.84354385546591,
          106.43914523360871,
          106.00851011520425,
          105.55229836159629,
          105.07116983412872,
          104.56578439414533,
          104.03680190298998,
          103.48488222200645,
          102.91068521253861,
          102.31451200222384,
          101.68841284345157,
          101.01618711336324,
          100.28127545539391,
          99.46711851297854,
          98.5571569295522,
          97.53483134854991,
          96.3835824134067,
          95.08685076755756,
          93.62807705443757,
          91.9907019174817,
          90.15816600012496,
          88.11390994580246,
          85.8413743979491,
          83.324
         ]
        },
        {
         "name": "5621.0 revolutions_per_minute",
         "type": "scatter",
         "x": [
          17065.2,
          17236.427586206897,
          17407.655172413793,
          17578.882758620693,
          17750.11034482759,
          17921.337931034483,
          18092.56551724138,
          18263.79310344828,
          18435.020689655175,
          18606.248275862068,
          18777.475862068964,
          18948.703448275865,
          19119.93103448276,
          19291.158620689657,
          19462.38620689655,
          19633.61379310345,
          19804.841379310346,
          19976.068965517243,
          20147.296551724135,
          20318.524137931036,
          20489.751724137932,
          20660.97931034483,
          20832.206896551725,
          21003.43448275862,
          21174.662068965517,
          21345.889655172414,
          21517.11724137931,
          21688.344827586203,
          21859.572413793103,
          22030.8
         ],
         "y": [
          118.226,
          118.04366210961904,
          117.79340959656238,
          117.48101221042684,
          117.11223970080935,
          116.69286181730669,
          116.22864830951586,
          115.72536892703361,
          115.18879341945686,
          114.62469153638247,
          114.0388330274073,
          113.43698764212826,
          112.8249251301422,
          112.20841524104598,
          111.59322772443649,
          110.98447180551842,
          110.3720646484777,
          109.73073135648117,
          109.0345365083037,
          108.25754468272004,
          107.37382045850501,
          106.35742841443341,
          105.18243312928003,
          103.82289918181965,
          102.25289115082712,
          100.44647361507725,
          98.3777111533448,
          96.0206683444046,
          93.34940976703135,
          90.33800000000001
         ]
        },
        {
         "name": "5354.0 revolutions_per_minute",
         "type": "scatter",
         "x": [
          14302.9,
          14502.068965517243,
          14701.237931034484,
          14900.406896551724,
          15099.575862068965,
          15298.744827586206,
          15497.91379310345,
          15697.08275862069,
          15896.251724137932,
          16095.420689655171,
          16294.589655172413,
          16493.758620689656,
          16692.927586206897,
          16892.09655172414,
          17091.26551724138,
          17290.43448275862,
          17489.603448275862,
          17688.772413793104,
          17887.941379310345,
          18087.110344827586,
          18286.279310344828,
          18485.448275862072,
          18684.617241379314,
          18883.78620689655,
          19082.955172413793,
          19282.124137931034,
          19481.293103448275,
          19680.462068965517,
          19879.63103448276,
          20078.8
         ],
         "y": [
          108.6820169625851,
          108.44889440677206,
          108.18557618655113,
          107.89272216324552,
          107.57099219817852,
          107.22104615267335,
          106.84354388805326,
          106.43914526564153,
          106.00851014676135,
          105.55229839273608,
          105.07116986488886,
          104.565784424543,
          104.03680193302174,
          103.48488225164832,
          102.910685241746,
          102.3145120309329,
          101.68841287160926,
          101.01618714095736,
          100.28127548245445,
          99.46711853957767,
          98.55715695580425,
          97.53483137461136,
          96.38358243947624,
          95.08685079387604,
          93.62807708128798,
          91.99070194518924,
          90.15816602905703,
          88.1139099763685,
          85.84137443060088,
          83.32400003523138
         ]
        },
        {
         "name": "Flow: 18597.39, head: 96.84",
         "type": "scatter",
         "x": [
          18597.38718814945
         ],
         "y": [
          96.84349633057944
         ]
        }
       ],
       "layout": {
        "height": 450,
        "template": {
         "data": {
          "bar": [
           {
            "error_x": {
             "color": "#2a3f5f"
            },
            "error_y": {
             "color": "#2a3f5f"
            },
            "marker": {
             "line": {
              "color": "white",
              "width": 0.5
             }
            },
            "type": "bar"
           }
          ],
          "barpolar": [
           {
            "marker": {
             "line": {
              "color": "white",
              "width": 0.5
             }
            },
            "type": "barpolar"
           }
          ],
          "carpet": [
           {
            "aaxis": {
             "endlinecolor": "#2a3f5f",
             "gridcolor": "#C8D4E3",
             "linecolor": "#C8D4E3",
             "minorgridcolor": "#C8D4E3",
             "startlinecolor": "#2a3f5f"
            },
            "baxis": {
             "endlinecolor": "#2a3f5f",
             "gridcolor": "#C8D4E3",
             "linecolor": "#C8D4E3",
             "minorgridcolor": "#C8D4E3",
             "startlinecolor": "#2a3f5f"
            },
            "type": "carpet"
           }
          ],
          "choropleth": [
           {
            "colorbar": {
             "outlinewidth": 0,
             "ticks": ""
            },
            "type": "choropleth"
           }
          ],
          "contour": [
           {
            "colorbar": {
             "outlinewidth": 0,
             "ticks": ""
            },
            "colorscale": [
             [
              0,
              "#0d0887"
             ],
             [
              0.1111111111111111,
              "#46039f"
             ],
             [
              0.2222222222222222,
              "#7201a8"
             ],
             [
              0.3333333333333333,
              "#9c179e"
             ],
             [
              0.4444444444444444,
              "#bd3786"
             ],
             [
              0.5555555555555556,
              "#d8576b"
             ],
             [
              0.6666666666666666,
              "#ed7953"
             ],
             [
              0.7777777777777778,
              "#fb9f3a"
             ],
             [
              0.8888888888888888,
              "#fdca26"
             ],
             [
              1,
              "#f0f921"
             ]
            ],
            "type": "contour"
           }
          ],
          "contourcarpet": [
           {
            "colorbar": {
             "outlinewidth": 0,
             "ticks": ""
            },
            "type": "contourcarpet"
           }
          ],
          "heatmap": [
           {
            "colorbar": {
             "outlinewidth": 0,
             "ticks": ""
            },
            "colorscale": [
             [
              0,
              "#0d0887"
             ],
             [
              0.1111111111111111,
              "#46039f"
             ],
             [
              0.2222222222222222,
              "#7201a8"
             ],
             [
              0.3333333333333333,
              "#9c179e"
             ],
             [
              0.4444444444444444,
              "#bd3786"
             ],
             [
              0.5555555555555556,
              "#d8576b"
             ],
             [
              0.6666666666666666,
              "#ed7953"
             ],
             [
              0.7777777777777778,
              "#fb9f3a"
             ],
             [
              0.8888888888888888,
              "#fdca26"
             ],
             [
              1,
              "#f0f921"
             ]
            ],
            "type": "heatmap"
           }
          ],
          "heatmapgl": [
           {
            "colorbar": {
             "outlinewidth": 0,
             "ticks": ""
            },
            "colorscale": [
             [
              0,
              "#0d0887"
             ],
             [
              0.1111111111111111,
              "#46039f"
             ],
             [
              0.2222222222222222,
              "#7201a8"
             ],
             [
              0.3333333333333333,
              "#9c179e"
             ],
             [
              0.4444444444444444,
              "#bd3786"
             ],
             [
              0.5555555555555556,
              "#d8576b"
             ],
             [
              0.6666666666666666,
              "#ed7953"
             ],
             [
              0.7777777777777778,
              "#fb9f3a"
             ],
             [
              0.8888888888888888,
              "#fdca26"
             ],
             [
              1,
              "#f0f921"
             ]
            ],
            "type": "heatmapgl"
           }
          ],
          "histogram": [
           {
            "marker": {
             "colorbar": {
              "outlinewidth": 0,
              "ticks": ""
             }
            },
            "type": "histogram"
           }
          ],
          "histogram2d": [
           {
            "colorbar": {
             "outlinewidth": 0,
             "ticks": ""
            },
            "colorscale": [
             [
              0,
              "#0d0887"
             ],
             [
              0.1111111111111111,
              "#46039f"
             ],
             [
              0.2222222222222222,
              "#7201a8"
             ],
             [
              0.3333333333333333,
              "#9c179e"
             ],
             [
              0.4444444444444444,
              "#bd3786"
             ],
             [
              0.5555555555555556,
              "#d8576b"
             ],
             [
              0.6666666666666666,
              "#ed7953"
             ],
             [
              0.7777777777777778,
              "#fb9f3a"
             ],
             [
              0.8888888888888888,
              "#fdca26"
             ],
             [
              1,
              "#f0f921"
             ]
            ],
            "type": "histogram2d"
           }
          ],
          "histogram2dcontour": [
           {
            "colorbar": {
             "outlinewidth": 0,
             "ticks": ""
            },
            "colorscale": [
             [
              0,
              "#0d0887"
             ],
             [
              0.1111111111111111,
              "#46039f"
             ],
             [
              0.2222222222222222,
              "#7201a8"
             ],
             [
              0.3333333333333333,
              "#9c179e"
             ],
             [
              0.4444444444444444,
              "#bd3786"
             ],
             [
              0.5555555555555556,
              "#d8576b"
             ],
             [
              0.6666666666666666,
              "#ed7953"
             ],
             [
              0.7777777777777778,
              "#fb9f3a"
             ],
             [
              0.8888888888888888,
              "#fdca26"
             ],
             [
              1,
              "#f0f921"
             ]
            ],
            "type": "histogram2dcontour"
           }
          ],
          "mesh3d": [
           {
            "colorbar": {
             "outlinewidth": 0,
             "ticks": ""
            },
            "type": "mesh3d"
           }
          ],
          "parcoords": [
           {
            "line": {
             "colorbar": {
              "outlinewidth": 0,
              "ticks": ""
             }
            },
            "type": "parcoords"
           }
          ],
          "pie": [
           {
            "automargin": true,
            "type": "pie"
           }
          ],
          "scatter": [
           {
            "marker": {
             "colorbar": {
              "outlinewidth": 0,
              "ticks": ""
             }
            },
            "type": "scatter"
           }
          ],
          "scatter3d": [
           {
            "line": {
             "colorbar": {
              "outlinewidth": 0,
              "ticks": ""
             }
            },
            "marker": {
             "colorbar": {
              "outlinewidth": 0,
              "ticks": ""
             }
            },
            "type": "scatter3d"
           }
          ],
          "scattercarpet": [
           {
            "marker": {
             "colorbar": {
              "outlinewidth": 0,
              "ticks": ""
             }
            },
            "type": "scattercarpet"
           }
          ],
          "scattergeo": [
           {
            "marker": {
             "colorbar": {
              "outlinewidth": 0,
              "ticks": ""
             }
            },
            "type": "scattergeo"
           }
          ],
          "scattergl": [
           {
            "marker": {
             "colorbar": {
              "outlinewidth": 0,
              "ticks": ""
             }
            },
            "type": "scattergl"
           }
          ],
          "scattermapbox": [
           {
            "marker": {
             "colorbar": {
              "outlinewidth": 0,
              "ticks": ""
             }
            },
            "type": "scattermapbox"
           }
          ],
          "scatterpolar": [
           {
            "marker": {
             "colorbar": {
              "outlinewidth": 0,
              "ticks": ""
             }
            },
            "type": "scatterpolar"
           }
          ],
          "scatterpolargl": [
           {
            "marker": {
             "colorbar": {
              "outlinewidth": 0,
              "ticks": ""
             }
            },
            "type": "scatterpolargl"
           }
          ],
          "scatterternary": [
           {
            "marker": {
             "colorbar": {
              "outlinewidth": 0,
              "ticks": ""
             }
            },
            "type": "scatterternary"
           }
          ],
          "surface": [
           {
            "colorbar": {
             "outlinewidth": 0,
             "ticks": ""
            },
            "colorscale": [
             [
              0,
              "#0d0887"
             ],
             [
              0.1111111111111111,
              "#46039f"
             ],
             [
              0.2222222222222222,
              "#7201a8"
             ],
             [
              0.3333333333333333,
              "#9c179e"
             ],
             [
              0.4444444444444444,
              "#bd3786"
             ],
             [
              0.5555555555555556,
              "#d8576b"
             ],
             [
              0.6666666666666666,
              "#ed7953"
             ],
             [
              0.7777777777777778,
              "#fb9f3a"
             ],
             [
              0.8888888888888888,
              "#fdca26"
             ],
             [
              1,
              "#f0f921"
             ]
            ],
            "type": "surface"
           }
          ],
          "table": [
           {
            "cells": {
             "fill": {
              "color": "#EBF0F8"
             },
             "line": {
              "color": "white"
             }
            },
            "header": {
             "fill": {
              "color": "#C8D4E3"
             },
             "line": {
              "color": "white"
             }
            },
            "type": "table"
           }
          ]
         },
         "layout": {
          "annotationdefaults": {
           "arrowcolor": "#2a3f5f",
           "arrowhead": 0,
           "arrowwidth": 1
          },
          "coloraxis": {
           "colorbar": {
            "outlinewidth": 0,
            "ticks": ""
           }
          },
          "colorscale": {
           "diverging": [
            [
             0,
             "#8e0152"
            ],
            [
             0.1,
             "#c51b7d"
            ],
            [
             0.2,
             "#de77ae"
            ],
            [
             0.3,
             "#f1b6da"
            ],
            [
             0.4,
             "#fde0ef"
            ],
            [
             0.5,
             "#f7f7f7"
            ],
            [
             0.6,
             "#e6f5d0"
            ],
            [
             0.7,
             "#b8e186"
            ],
            [
             0.8,
             "#7fbc41"
            ],
            [
             0.9,
             "#4d9221"
            ],
            [
             1,
             "#276419"
            ]
           ],
           "sequential": [
            [
             0,
             "#0d0887"
            ],
            [
             0.1111111111111111,
             "#46039f"
            ],
            [
             0.2222222222222222,
             "#7201a8"
            ],
            [
             0.3333333333333333,
             "#9c179e"
            ],
            [
             0.4444444444444444,
             "#bd3786"
            ],
            [
             0.5555555555555556,
             "#d8576b"
            ],
            [
             0.6666666666666666,
             "#ed7953"
            ],
            [
             0.7777777777777778,
             "#fb9f3a"
            ],
            [
             0.8888888888888888,
             "#fdca26"
            ],
            [
             1,
             "#f0f921"
            ]
           ],
           "sequentialminus": [
            [
             0,
             "#0d0887"
            ],
            [
             0.1111111111111111,
             "#46039f"
            ],
            [
             0.2222222222222222,
             "#7201a8"
            ],
            [
             0.3333333333333333,
             "#9c179e"
            ],
            [
             0.4444444444444444,
             "#bd3786"
            ],
            [
             0.5555555555555556,
             "#d8576b"
            ],
            [
             0.6666666666666666,
             "#ed7953"
            ],
            [
             0.7777777777777778,
             "#fb9f3a"
            ],
            [
             0.8888888888888888,
             "#fdca26"
            ],
            [
             1,
             "#f0f921"
            ]
           ]
          },
          "colorway": [
           "#1f77b4",
           "#ff7f0e",
           "#2ca02c",
           "#d62728",
           "#9467bd",
           "#8c564b",
           "#e377c2",
           "#7f7f7f",
           "#bcbd22",
           "#17becf"
          ],
          "font": {
           "color": "#2a3f5f"
          },
          "geo": {
           "bgcolor": "white",
           "lakecolor": "white",
           "landcolor": "white",
           "showlakes": true,
           "showland": true,
           "subunitcolor": "#C8D4E3"
          },
          "hoverlabel": {
           "align": "left"
          },
          "hovermode": "closest",
          "mapbox": {
           "style": "light"
          },
          "paper_bgcolor": "white",
          "plot_bgcolor": "white",
          "polar": {
           "angularaxis": {
            "gridcolor": "#EBF0F8",
            "linecolor": "#EBF0F8",
            "ticks": ""
           },
           "bgcolor": "white",
           "radialaxis": {
            "gridcolor": "#EBF0F8",
            "linecolor": "#EBF0F8",
            "ticks": ""
           }
          },
          "scene": {
           "xaxis": {
            "backgroundcolor": "white",
            "gridcolor": "#DFE8F3",
            "gridwidth": 2,
            "linecolor": "#EBF0F8",
            "showbackground": true,
            "showspikes": false,
            "ticks": "",
            "zerolinecolor": "#EBF0F8"
           },
           "yaxis": {
            "backgroundcolor": "white",
            "gridcolor": "#DFE8F3",
            "gridwidth": 2,
            "linecolor": "#EBF0F8",
            "showbackground": true,
            "showspikes": false,
            "ticks": "",
            "zerolinecolor": "#EBF0F8"
           },
           "zaxis": {
            "backgroundcolor": "white",
            "gridcolor": "#DFE8F3",
            "gridwidth": 2,
            "linecolor": "#EBF0F8",
            "showbackground": true,
            "showspikes": false,
            "ticks": "",
            "zerolinecolor": "#EBF0F8"
           }
          },
          "shapedefaults": {
           "line": {
            "color": "#2a3f5f"
           }
          },
          "ternary": {
           "aaxis": {
            "gridcolor": "#DFE8F3",
            "linecolor": "#A2B1C6",
            "ticks": ""
           },
           "baxis": {
            "gridcolor": "#DFE8F3",
            "linecolor": "#A2B1C6",
            "ticks": ""
           },
           "bgcolor": "white",
           "caxis": {
            "gridcolor": "#DFE8F3",
            "linecolor": "#A2B1C6",
            "ticks": ""
           }
          },
          "title": {
           "x": 0.05
          },
          "xaxis": {
           "automargin": true,
           "gridcolor": "#EBF0F8",
           "linecolor": "black",
           "linewidth": 2,
           "mirror": true,
           "showline": true,
           "ticks": "",
           "title": {
            "standoff": 15
           },
           "zeroline": false,
           "zerolinecolor": "#EBF0F8",
           "zerolinewidth": 2
          },
          "yaxis": {
           "automargin": true,
           "gridcolor": "#EBF0F8",
           "linecolor": "black",
           "linewidth": 2,
           "mirror": true,
           "showline": true,
           "ticks": "",
           "title": {
            "standoff": 15
           },
           "zeroline": false,
           "zerolinecolor": "#EBF0F8",
           "zerolinewidth": 2
          }
         }
        },
        "width": 800,
        "xaxis": {
         "range": [
          11636.43,
          22525.77
         ],
         "title": {
          "text": "Volume Flow (m<sup>3</sup>/h)"
         }
        },
        "yaxis": {
         "title": {
          "text": "Head (kJ/kg)"
         }
        }
       }
      }
     },
     "metadata": {},
     "output_type": "display_data"
    }
   ],
   "source": [
    "fig = new_imp_2sec.head_plot(flow_v_units=\"m**3/h\",head_units=\"kJ/kg\",\n",
    "                    speed_units=\"rpm\",flow_v= new_point_2sec.flow_v, speed = new_point_2sec.speed)\n",
    "fig.update_layout(height=450,width=800)"
   ]
  },
  {
   "cell_type": "code",
   "execution_count": 16,
   "id": "fc5fe830",
   "metadata": {},
   "outputs": [
    {
     "data": {
      "application/vnd.plotly.v1+json": {
       "config": {
        "plotlyServerURL": "https://plot.ly"
       },
       "data": [
        {
         "name": "5086.0 revolutions_per_minute",
         "type": "scatter",
         "x": [
          46700.2,
          47493.43448275862,
          48286.66896551724,
          49079.90344827586,
          49873.13793103448,
          50666.3724137931,
          51459.606896551726,
          52252.84137931034,
          53046.07586206897,
          53839.31034482758,
          54632.54482758621,
          55425.77931034483,
          56219.01379310345,
          57012.24827586207,
          57805.48275862069,
          58598.71724137931,
          59391.95172413793,
          60185.18620689654,
          60978.42068965517,
          61771.65517241379,
          62564.88965517241,
          63358.12413793104,
          64151.35862068966,
          64944.59310344827,
          65737.8275862069,
          66531.06206896552,
          67324.29655172414,
          68117.53103448276,
          68910.76551724138,
          69704
         ],
         "y": [
          0.8162857998670701,
          0.8200124595564927,
          0.8234644591718696,
          0.8266514628335567,
          0.82958313466191,
          0.8322691387772851,
          0.8347191393000383,
          0.8369428003505253,
          0.8389497860491019,
          0.8407497605161244,
          0.8423523878719484,
          0.8437673322369301,
          0.845004257731425,
          0.8460728284757895,
          0.846982708590379,
          0.8477409446692032,
          0.8482943802002968,
          0.8485296555657198,
          0.8483307936211862,
          0.8475818172224096,
          0.8461667492251037,
          0.843969612484982,
          0.8408744298577584,
          0.8367652241991463,
          0.8315260183648596,
          0.8250408352106118,
          0.8171936975921166,
          0.8078686283650879,
          0.7969496503852389,
          0.7843207865082836
         ]
        },
        {
         "name": "5354.0 revolutions_per_minute",
         "type": "scatter",
         "x": [
          54112.5,
          54892.51724137931,
          55672.53448275862,
          56452.551724137935,
          57232.56896551724,
          58012.58620689656,
          58792.60344827587,
          59572.62068965517,
          60352.637931034486,
          61132.6551724138,
          61912.67241379311,
          62692.68965517241,
          63472.706896551725,
          64252.724137931036,
          65032.74137931035,
          65812.75862068965,
          66592.77586206897,
          67372.79310344828,
          68152.8103448276,
          68932.8275862069,
          69712.8448275862,
          70492.86206896552,
          71272.87931034483,
          72052.89655172414,
          72832.91379310345,
          73612.93103448275,
          74392.94827586207,
          75172.96551724138,
          75952.98275862068,
          76733
         ],
         "y": [
          0.823701,
          0.8271658862969486,
          0.8303012860242269,
          0.8331267575012535,
          0.8356618590474468,
          0.8379261489822258,
          0.8399391856250088,
          0.8417205272952145,
          0.8432897323122612,
          0.8446663589955681,
          0.8458699656645533,
          0.8469201106386356,
          0.8478363522372334,
          0.8486382487797656,
          0.8493453585856505,
          0.8499731829504091,
          0.8504439116199135,
          0.8505864227903869,
          0.8502255376341551,
          0.8491860773235436,
          0.8472928630308777,
          0.8443707159284835,
          0.8402444571886861,
          0.8347389079838117,
          0.8276788894861854,
          0.8188892228681328,
          0.8081947293019798,
          0.7954202299600515,
          0.780390546014674,
          0.7629304986381724
         ]
        },
        {
         "name": "5621.0 revolutions_per_minute",
         "type": "scatter",
         "x": [
          63633.59999999999,
          64302.893103448274,
          64972.18620689655,
          65641.47931034483,
          66310.77241379309,
          66980.06551724138,
          67649.35862068966,
          68318.65172413793,
          68987.94482758621,
          69657.23793103448,
          70326.53103448276,
          70995.82413793103,
          71665.11724137931,
          72334.41034482759,
          73003.70344827586,
          73672.99655172414,
          74342.28965517241,
          75011.5827586207,
          75680.87586206896,
          76350.16896551725,
          77019.46206896551,
          77688.7551724138,
          78358.04827586206,
          79027.34137931035,
          79696.63448275863,
          80365.9275862069,
          81035.22068965518,
          81704.51379310346,
          82373.80689655175,
          83043.1
         ],
         "y": [
          0.8321892872734432,
          0.8348781323303144,
          0.8372386421893874,
          0.8392948113748283,
          0.8410706344108031,
          0.8425901058214775,
          0.8438772201310175,
          0.844955971863589,
          0.845850355543358,
          0.8465843656944902,
          0.8471819968411515,
          0.8476672435075082,
          0.8480641002177257,
          0.84839656149597,
          0.8486886218664073,
          0.8489597491765125,
          0.8491252977098764,
          0.8489965081862055,
          0.8483800946485152,
          0.8470827711398208,
          0.8449112517031383,
          0.8416722503814831,
          0.8371724812178705,
          0.8312186582553166,
          0.8236174955368365,
          0.8141757071054462,
          0.802700007004161,
          0.7889971092759962,
          0.7728737279639678,
          0.7541365771110915
         ]
        },
        {
         "name": "5354.0 revolutions_per_minute",
         "type": "scatter",
         "x": [
          54112.5,
          54892.51724137931,
          55672.53448275862,
          56452.551724137935,
          57232.56896551724,
          58012.58620689656,
          58792.60344827587,
          59572.62068965517,
          60352.637931034486,
          61132.6551724138,
          61912.67241379311,
          62692.68965517241,
          63472.706896551725,
          64252.724137931036,
          65032.74137931035,
          65812.75862068965,
          66592.77586206897,
          67372.79310344828,
          68152.8103448276,
          68932.8275862069,
          69712.8448275862,
          70492.86206896552,
          71272.87931034483,
          72052.89655172414,
          72832.91379310345,
          73612.93103448275,
          74392.94827586207,
          75172.96551724138,
          75952.98275862068,
          76733
         ],
         "y": [
          0.8237010048300385,
          0.8271658902725325,
          0.830301289280195,
          0.8331267601607467,
          0.8356618612219086,
          0.8379261507714016,
          0.8399391871169467,
          0.8417205285662643,
          0.8432897334270757,
          0.8446663600071016,
          0.8458699666140631,
          0.8469201115556808,
          0.8478363531396758,
          0.8486382496737686,
          0.8493453594656803,
          0.8499731837997339,
          0.8504439124220932,
          0.8505864235407637,
          0.8502255383403534,
          0.8491860780054695,
          0.8472928637207197,
          0.8443707166707113,
          0.8402444580400519,
          0.8347389090133491,
          0.8276788907752104,
          0.818889224510243,
          0.8081947314030548,
          0.7954202326382529,
          0.780390549400445,
          0.7629305028742388
         ]
        },
        {
         "name": "Flow: 72852.63, eff: 0.82",
         "type": "scatter",
         "x": [
          72852.6281846511
         ],
         "y": [
          0.8249448320291534
         ]
        }
       ],
       "layout": {
        "height": 450,
        "template": {
         "data": {
          "bar": [
           {
            "error_x": {
             "color": "#2a3f5f"
            },
            "error_y": {
             "color": "#2a3f5f"
            },
            "marker": {
             "line": {
              "color": "white",
              "width": 0.5
             }
            },
            "type": "bar"
           }
          ],
          "barpolar": [
           {
            "marker": {
             "line": {
              "color": "white",
              "width": 0.5
             }
            },
            "type": "barpolar"
           }
          ],
          "carpet": [
           {
            "aaxis": {
             "endlinecolor": "#2a3f5f",
             "gridcolor": "#C8D4E3",
             "linecolor": "#C8D4E3",
             "minorgridcolor": "#C8D4E3",
             "startlinecolor": "#2a3f5f"
            },
            "baxis": {
             "endlinecolor": "#2a3f5f",
             "gridcolor": "#C8D4E3",
             "linecolor": "#C8D4E3",
             "minorgridcolor": "#C8D4E3",
             "startlinecolor": "#2a3f5f"
            },
            "type": "carpet"
           }
          ],
          "choropleth": [
           {
            "colorbar": {
             "outlinewidth": 0,
             "ticks": ""
            },
            "type": "choropleth"
           }
          ],
          "contour": [
           {
            "colorbar": {
             "outlinewidth": 0,
             "ticks": ""
            },
            "colorscale": [
             [
              0,
              "#0d0887"
             ],
             [
              0.1111111111111111,
              "#46039f"
             ],
             [
              0.2222222222222222,
              "#7201a8"
             ],
             [
              0.3333333333333333,
              "#9c179e"
             ],
             [
              0.4444444444444444,
              "#bd3786"
             ],
             [
              0.5555555555555556,
              "#d8576b"
             ],
             [
              0.6666666666666666,
              "#ed7953"
             ],
             [
              0.7777777777777778,
              "#fb9f3a"
             ],
             [
              0.8888888888888888,
              "#fdca26"
             ],
             [
              1,
              "#f0f921"
             ]
            ],
            "type": "contour"
           }
          ],
          "contourcarpet": [
           {
            "colorbar": {
             "outlinewidth": 0,
             "ticks": ""
            },
            "type": "contourcarpet"
           }
          ],
          "heatmap": [
           {
            "colorbar": {
             "outlinewidth": 0,
             "ticks": ""
            },
            "colorscale": [
             [
              0,
              "#0d0887"
             ],
             [
              0.1111111111111111,
              "#46039f"
             ],
             [
              0.2222222222222222,
              "#7201a8"
             ],
             [
              0.3333333333333333,
              "#9c179e"
             ],
             [
              0.4444444444444444,
              "#bd3786"
             ],
             [
              0.5555555555555556,
              "#d8576b"
             ],
             [
              0.6666666666666666,
              "#ed7953"
             ],
             [
              0.7777777777777778,
              "#fb9f3a"
             ],
             [
              0.8888888888888888,
              "#fdca26"
             ],
             [
              1,
              "#f0f921"
             ]
            ],
            "type": "heatmap"
           }
          ],
          "heatmapgl": [
           {
            "colorbar": {
             "outlinewidth": 0,
             "ticks": ""
            },
            "colorscale": [
             [
              0,
              "#0d0887"
             ],
             [
              0.1111111111111111,
              "#46039f"
             ],
             [
              0.2222222222222222,
              "#7201a8"
             ],
             [
              0.3333333333333333,
              "#9c179e"
             ],
             [
              0.4444444444444444,
              "#bd3786"
             ],
             [
              0.5555555555555556,
              "#d8576b"
             ],
             [
              0.6666666666666666,
              "#ed7953"
             ],
             [
              0.7777777777777778,
              "#fb9f3a"
             ],
             [
              0.8888888888888888,
              "#fdca26"
             ],
             [
              1,
              "#f0f921"
             ]
            ],
            "type": "heatmapgl"
           }
          ],
          "histogram": [
           {
            "marker": {
             "colorbar": {
              "outlinewidth": 0,
              "ticks": ""
             }
            },
            "type": "histogram"
           }
          ],
          "histogram2d": [
           {
            "colorbar": {
             "outlinewidth": 0,
             "ticks": ""
            },
            "colorscale": [
             [
              0,
              "#0d0887"
             ],
             [
              0.1111111111111111,
              "#46039f"
             ],
             [
              0.2222222222222222,
              "#7201a8"
             ],
             [
              0.3333333333333333,
              "#9c179e"
             ],
             [
              0.4444444444444444,
              "#bd3786"
             ],
             [
              0.5555555555555556,
              "#d8576b"
             ],
             [
              0.6666666666666666,
              "#ed7953"
             ],
             [
              0.7777777777777778,
              "#fb9f3a"
             ],
             [
              0.8888888888888888,
              "#fdca26"
             ],
             [
              1,
              "#f0f921"
             ]
            ],
            "type": "histogram2d"
           }
          ],
          "histogram2dcontour": [
           {
            "colorbar": {
             "outlinewidth": 0,
             "ticks": ""
            },
            "colorscale": [
             [
              0,
              "#0d0887"
             ],
             [
              0.1111111111111111,
              "#46039f"
             ],
             [
              0.2222222222222222,
              "#7201a8"
             ],
             [
              0.3333333333333333,
              "#9c179e"
             ],
             [
              0.4444444444444444,
              "#bd3786"
             ],
             [
              0.5555555555555556,
              "#d8576b"
             ],
             [
              0.6666666666666666,
              "#ed7953"
             ],
             [
              0.7777777777777778,
              "#fb9f3a"
             ],
             [
              0.8888888888888888,
              "#fdca26"
             ],
             [
              1,
              "#f0f921"
             ]
            ],
            "type": "histogram2dcontour"
           }
          ],
          "mesh3d": [
           {
            "colorbar": {
             "outlinewidth": 0,
             "ticks": ""
            },
            "type": "mesh3d"
           }
          ],
          "parcoords": [
           {
            "line": {
             "colorbar": {
              "outlinewidth": 0,
              "ticks": ""
             }
            },
            "type": "parcoords"
           }
          ],
          "pie": [
           {
            "automargin": true,
            "type": "pie"
           }
          ],
          "scatter": [
           {
            "marker": {
             "colorbar": {
              "outlinewidth": 0,
              "ticks": ""
             }
            },
            "type": "scatter"
           }
          ],
          "scatter3d": [
           {
            "line": {
             "colorbar": {
              "outlinewidth": 0,
              "ticks": ""
             }
            },
            "marker": {
             "colorbar": {
              "outlinewidth": 0,
              "ticks": ""
             }
            },
            "type": "scatter3d"
           }
          ],
          "scattercarpet": [
           {
            "marker": {
             "colorbar": {
              "outlinewidth": 0,
              "ticks": ""
             }
            },
            "type": "scattercarpet"
           }
          ],
          "scattergeo": [
           {
            "marker": {
             "colorbar": {
              "outlinewidth": 0,
              "ticks": ""
             }
            },
            "type": "scattergeo"
           }
          ],
          "scattergl": [
           {
            "marker": {
             "colorbar": {
              "outlinewidth": 0,
              "ticks": ""
             }
            },
            "type": "scattergl"
           }
          ],
          "scattermapbox": [
           {
            "marker": {
             "colorbar": {
              "outlinewidth": 0,
              "ticks": ""
             }
            },
            "type": "scattermapbox"
           }
          ],
          "scatterpolar": [
           {
            "marker": {
             "colorbar": {
              "outlinewidth": 0,
              "ticks": ""
             }
            },
            "type": "scatterpolar"
           }
          ],
          "scatterpolargl": [
           {
            "marker": {
             "colorbar": {
              "outlinewidth": 0,
              "ticks": ""
             }
            },
            "type": "scatterpolargl"
           }
          ],
          "scatterternary": [
           {
            "marker": {
             "colorbar": {
              "outlinewidth": 0,
              "ticks": ""
             }
            },
            "type": "scatterternary"
           }
          ],
          "surface": [
           {
            "colorbar": {
             "outlinewidth": 0,
             "ticks": ""
            },
            "colorscale": [
             [
              0,
              "#0d0887"
             ],
             [
              0.1111111111111111,
              "#46039f"
             ],
             [
              0.2222222222222222,
              "#7201a8"
             ],
             [
              0.3333333333333333,
              "#9c179e"
             ],
             [
              0.4444444444444444,
              "#bd3786"
             ],
             [
              0.5555555555555556,
              "#d8576b"
             ],
             [
              0.6666666666666666,
              "#ed7953"
             ],
             [
              0.7777777777777778,
              "#fb9f3a"
             ],
             [
              0.8888888888888888,
              "#fdca26"
             ],
             [
              1,
              "#f0f921"
             ]
            ],
            "type": "surface"
           }
          ],
          "table": [
           {
            "cells": {
             "fill": {
              "color": "#EBF0F8"
             },
             "line": {
              "color": "white"
             }
            },
            "header": {
             "fill": {
              "color": "#C8D4E3"
             },
             "line": {
              "color": "white"
             }
            },
            "type": "table"
           }
          ]
         },
         "layout": {
          "annotationdefaults": {
           "arrowcolor": "#2a3f5f",
           "arrowhead": 0,
           "arrowwidth": 1
          },
          "coloraxis": {
           "colorbar": {
            "outlinewidth": 0,
            "ticks": ""
           }
          },
          "colorscale": {
           "diverging": [
            [
             0,
             "#8e0152"
            ],
            [
             0.1,
             "#c51b7d"
            ],
            [
             0.2,
             "#de77ae"
            ],
            [
             0.3,
             "#f1b6da"
            ],
            [
             0.4,
             "#fde0ef"
            ],
            [
             0.5,
             "#f7f7f7"
            ],
            [
             0.6,
             "#e6f5d0"
            ],
            [
             0.7,
             "#b8e186"
            ],
            [
             0.8,
             "#7fbc41"
            ],
            [
             0.9,
             "#4d9221"
            ],
            [
             1,
             "#276419"
            ]
           ],
           "sequential": [
            [
             0,
             "#0d0887"
            ],
            [
             0.1111111111111111,
             "#46039f"
            ],
            [
             0.2222222222222222,
             "#7201a8"
            ],
            [
             0.3333333333333333,
             "#9c179e"
            ],
            [
             0.4444444444444444,
             "#bd3786"
            ],
            [
             0.5555555555555556,
             "#d8576b"
            ],
            [
             0.6666666666666666,
             "#ed7953"
            ],
            [
             0.7777777777777778,
             "#fb9f3a"
            ],
            [
             0.8888888888888888,
             "#fdca26"
            ],
            [
             1,
             "#f0f921"
            ]
           ],
           "sequentialminus": [
            [
             0,
             "#0d0887"
            ],
            [
             0.1111111111111111,
             "#46039f"
            ],
            [
             0.2222222222222222,
             "#7201a8"
            ],
            [
             0.3333333333333333,
             "#9c179e"
            ],
            [
             0.4444444444444444,
             "#bd3786"
            ],
            [
             0.5555555555555556,
             "#d8576b"
            ],
            [
             0.6666666666666666,
             "#ed7953"
            ],
            [
             0.7777777777777778,
             "#fb9f3a"
            ],
            [
             0.8888888888888888,
             "#fdca26"
            ],
            [
             1,
             "#f0f921"
            ]
           ]
          },
          "colorway": [
           "#1f77b4",
           "#ff7f0e",
           "#2ca02c",
           "#d62728",
           "#9467bd",
           "#8c564b",
           "#e377c2",
           "#7f7f7f",
           "#bcbd22",
           "#17becf"
          ],
          "font": {
           "color": "#2a3f5f"
          },
          "geo": {
           "bgcolor": "white",
           "lakecolor": "white",
           "landcolor": "white",
           "showlakes": true,
           "showland": true,
           "subunitcolor": "#C8D4E3"
          },
          "hoverlabel": {
           "align": "left"
          },
          "hovermode": "closest",
          "mapbox": {
           "style": "light"
          },
          "paper_bgcolor": "white",
          "plot_bgcolor": "white",
          "polar": {
           "angularaxis": {
            "gridcolor": "#EBF0F8",
            "linecolor": "#EBF0F8",
            "ticks": ""
           },
           "bgcolor": "white",
           "radialaxis": {
            "gridcolor": "#EBF0F8",
            "linecolor": "#EBF0F8",
            "ticks": ""
           }
          },
          "scene": {
           "xaxis": {
            "backgroundcolor": "white",
            "gridcolor": "#DFE8F3",
            "gridwidth": 2,
            "linecolor": "#EBF0F8",
            "showbackground": true,
            "showspikes": false,
            "ticks": "",
            "zerolinecolor": "#EBF0F8"
           },
           "yaxis": {
            "backgroundcolor": "white",
            "gridcolor": "#DFE8F3",
            "gridwidth": 2,
            "linecolor": "#EBF0F8",
            "showbackground": true,
            "showspikes": false,
            "ticks": "",
            "zerolinecolor": "#EBF0F8"
           },
           "zaxis": {
            "backgroundcolor": "white",
            "gridcolor": "#DFE8F3",
            "gridwidth": 2,
            "linecolor": "#EBF0F8",
            "showbackground": true,
            "showspikes": false,
            "ticks": "",
            "zerolinecolor": "#EBF0F8"
           }
          },
          "shapedefaults": {
           "line": {
            "color": "#2a3f5f"
           }
          },
          "ternary": {
           "aaxis": {
            "gridcolor": "#DFE8F3",
            "linecolor": "#A2B1C6",
            "ticks": ""
           },
           "baxis": {
            "gridcolor": "#DFE8F3",
            "linecolor": "#A2B1C6",
            "ticks": ""
           },
           "bgcolor": "white",
           "caxis": {
            "gridcolor": "#DFE8F3",
            "linecolor": "#A2B1C6",
            "ticks": ""
           }
          },
          "title": {
           "x": 0.05
          },
          "xaxis": {
           "automargin": true,
           "gridcolor": "#EBF0F8",
           "linecolor": "black",
           "linewidth": 2,
           "mirror": true,
           "showline": true,
           "ticks": "",
           "title": {
            "standoff": 15
           },
           "zeroline": false,
           "zerolinecolor": "#EBF0F8",
           "zerolinewidth": 2
          },
          "yaxis": {
           "automargin": true,
           "gridcolor": "#EBF0F8",
           "linecolor": "black",
           "linewidth": 2,
           "mirror": true,
           "showline": true,
           "ticks": "",
           "title": {
            "standoff": 15
           },
           "zeroline": false,
           "zerolinecolor": "#EBF0F8",
           "zerolinewidth": 2
          }
         }
        },
        "width": 800,
        "xaxis": {
         "range": [
          44883.05499999999,
          84860.24500000001
         ],
         "title": {
          "text": "Volume Flow (m<sup>3</sup>/h)"
         }
        },
        "yaxis": {
         "title": {
          "text": "Eff ()"
         }
        }
       }
      }
     },
     "metadata": {},
     "output_type": "display_data"
    }
   ],
   "source": [
    "fig = imp_1sec.eff_plot(flow_v_units=\"m**3/h\",\n",
    "                    speed_units=\"rpm\",flow_v= point_1sec.flow_v, speed = point_1sec.speed)\n",
    "fig.update_layout(height=450,width=800)"
   ]
  },
  {
   "cell_type": "code",
   "execution_count": 17,
   "id": "15f7c12c",
   "metadata": {},
   "outputs": [
    {
     "data": {
      "application/vnd.plotly.v1+json": {
       "config": {
        "plotlyServerURL": "https://plot.ly"
       },
       "data": [
        {
         "name": "5086.0 revolutions_per_minute",
         "type": "scatter",
         "x": [
          12131.4,
          12339.879310344828,
          12548.358620689654,
          12756.837931034483,
          12965.317241379309,
          13173.796551724137,
          13382.275862068966,
          13590.755172413792,
          13799.23448275862,
          14007.713793103447,
          14216.193103448275,
          14424.672413793103,
          14633.15172413793,
          14841.63103448276,
          15050.110344827584,
          15258.589655172414,
          15467.06896551724,
          15675.54827586207,
          15884.027586206896,
          16092.506896551724,
          16300.98620689655,
          16509.46551724138,
          16717.944827586205,
          16926.424137931033,
          17134.90344827586,
          17343.38275862069,
          17551.862068965514,
          17760.341379310343,
          17968.820689655175,
          18177.3
         ],
         "y": [
          0.77123,
          0.7738946701787096,
          0.7763147010200554,
          0.7784999707160909,
          0.780460357458869,
          0.7822057394404441,
          0.7837459948528694,
          0.7850910018881987,
          0.7862506387384851,
          0.7872347835957826,
          0.7880533146521446,
          0.7887161100996243,
          0.7892330481302757,
          0.7896140069361524,
          0.7898688647093075,
          0.7900042572342995,
          0.7899522449232896,
          0.7895703128160427,
          0.7887127035448288,
          0.7872336597419165,
          0.7849874240395758,
          0.7818282390700757,
          0.7776103474656864,
          0.7721879918586761,
          0.7654154148813153,
          0.7571468591658729,
          0.7472365673446186,
          0.7355387820498216,
          0.7219077459137513,
          0.7061977015686774
         ]
        },
        {
         "name": "5354.0 revolutions_per_minute",
         "type": "scatter",
         "x": [
          14302.9,
          14502.068965517243,
          14701.237931034484,
          14900.406896551724,
          15099.575862068965,
          15298.744827586206,
          15497.91379310345,
          15697.08275862069,
          15896.251724137932,
          16095.420689655171,
          16294.589655172413,
          16493.758620689656,
          16692.927586206897,
          16892.09655172414,
          17091.26551724138,
          17290.43448275862,
          17489.603448275862,
          17688.772413793104,
          17887.941379310345,
          18087.110344827586,
          18286.279310344828,
          18485.448275862072,
          18684.617241379314,
          18883.78620689655,
          19082.955172413793,
          19282.124137931034,
          19481.293103448275,
          19680.462068965517,
          19879.63103448276,
          20078.8
         ],
         "y": [
          0.776906,
          0.7790988312315583,
          0.7810540867040228,
          0.7827830210268257,
          0.7842968888094001,
          0.7856069446611783,
          0.7867244431915934,
          0.7876606390100777,
          0.7884267867260638,
          0.7890341409489847,
          0.7894939562882727,
          0.7898174873533608,
          0.7900159887536816,
          0.7901007150986676,
          0.7900829209977513,
          0.7899709214257247,
          0.7897054197606278,
          0.7891595077837514,
          0.7882033376417447,
          0.7867070614812562,
          0.7845408314489353,
          0.7815747996914308,
          0.7776791183553918,
          0.772723939587467,
          0.7665794155343062,
          0.7591156983425575,
          0.7502029401588706,
          0.739711293129894,
          0.7275109094022767,
          0.7134719411226682
         ]
        },
        {
         "name": "5621.0 revolutions_per_minute",
         "type": "scatter",
         "x": [
          17065.2,
          17236.427586206897,
          17407.655172413793,
          17578.882758620693,
          17750.11034482759,
          17921.337931034483,
          18092.56551724138,
          18263.79310344828,
          18435.020689655175,
          18606.248275862068,
          18777.475862068964,
          18948.703448275865,
          19119.93103448276,
          19291.158620689657,
          19462.38620689655,
          19633.61379310345,
          19804.841379310346,
          19976.068965517243,
          20147.296551724135,
          20318.524137931036,
          20489.751724137932,
          20660.97931034483,
          20832.206896551725,
          21003.43448275862,
          21174.662068965517,
          21345.889655172414,
          21517.11724137931,
          21688.344827586203,
          21859.572413793103,
          22030.8
         ],
         "y": [
          0.7837749122314086,
          0.7851230064764543,
          0.7862159415721874,
          0.7870736934435433,
          0.787716238015458,
          0.788163551212867,
          0.7884356089607067,
          0.7885523871839122,
          0.7885338618074198,
          0.7884000087561651,
          0.7881708039550839,
          0.787866223329112,
          0.7875062428031853,
          0.7871108383022395,
          0.7866999857512105,
          0.7862901400762887,
          0.785816773232527,
          0.7851343742038394,
          0.7840939109753948,
          0.7825463515323628,
          0.780342663859912,
          0.7773338159432118,
          0.7733707757674314,
          0.7683045113177397,
          0.7619859905793059,
          0.7542661815372992,
          0.7449960521768886,
          0.7340265704832432,
          0.721208704441532,
          0.7063934220369242
         ]
        },
        {
         "name": "5354.0 revolutions_per_minute",
         "type": "scatter",
         "x": [
          14302.9,
          14502.068965517243,
          14701.237931034484,
          14900.406896551724,
          15099.575862068965,
          15298.744827586206,
          15497.91379310345,
          15697.08275862069,
          15896.251724137932,
          16095.420689655171,
          16294.589655172413,
          16493.758620689656,
          16692.927586206897,
          16892.09655172414,
          17091.26551724138,
          17290.43448275862,
          17489.603448275862,
          17688.772413793104,
          17887.941379310345,
          18087.110344827586,
          18286.279310344828,
          18485.448275862072,
          18684.617241379314,
          18883.78620689655,
          19082.955172413793,
          19282.124137931034,
          19481.293103448275,
          19680.462068965517,
          19879.63103448276,
          20078.8
         ],
         "y": [
          0.7769060001664061,
          0.7790988313886023,
          0.7810540868532635,
          0.7827830211696631,
          0.7842968889470756,
          0.785606944794775,
          0.786724443322035,
          0.7876606391381293,
          0.7884267868523325,
          0.7890341410739182,
          0.7894939564121604,
          0.7898174874763332,
          0.7900159888757107,
          0.7901007152195664,
          0.7900829211171745,
          0.7899709215431793,
          0.7897054198757338,
          0.7891595078965012,
          0.7882033377525147,
          0.786707061590807,
          0.7845408315584113,
          0.7815747998023606,
          0.7776791184696877,
          0.7727239397074258,
          0.766579415662608,
          0.7591156984822672,
          0.7502029403134363,
          0.7397112933031482,
          0.7275109095984362,
          0.7134719413463333
         ]
        },
        {
         "name": "Flow: 18597.39, eff: 0.78",
         "type": "scatter",
         "x": [
          18597.38718814945
         ],
         "y": [
          0.779106769916429
         ]
        }
       ],
       "layout": {
        "height": 450,
        "template": {
         "data": {
          "bar": [
           {
            "error_x": {
             "color": "#2a3f5f"
            },
            "error_y": {
             "color": "#2a3f5f"
            },
            "marker": {
             "line": {
              "color": "white",
              "width": 0.5
             }
            },
            "type": "bar"
           }
          ],
          "barpolar": [
           {
            "marker": {
             "line": {
              "color": "white",
              "width": 0.5
             }
            },
            "type": "barpolar"
           }
          ],
          "carpet": [
           {
            "aaxis": {
             "endlinecolor": "#2a3f5f",
             "gridcolor": "#C8D4E3",
             "linecolor": "#C8D4E3",
             "minorgridcolor": "#C8D4E3",
             "startlinecolor": "#2a3f5f"
            },
            "baxis": {
             "endlinecolor": "#2a3f5f",
             "gridcolor": "#C8D4E3",
             "linecolor": "#C8D4E3",
             "minorgridcolor": "#C8D4E3",
             "startlinecolor": "#2a3f5f"
            },
            "type": "carpet"
           }
          ],
          "choropleth": [
           {
            "colorbar": {
             "outlinewidth": 0,
             "ticks": ""
            },
            "type": "choropleth"
           }
          ],
          "contour": [
           {
            "colorbar": {
             "outlinewidth": 0,
             "ticks": ""
            },
            "colorscale": [
             [
              0,
              "#0d0887"
             ],
             [
              0.1111111111111111,
              "#46039f"
             ],
             [
              0.2222222222222222,
              "#7201a8"
             ],
             [
              0.3333333333333333,
              "#9c179e"
             ],
             [
              0.4444444444444444,
              "#bd3786"
             ],
             [
              0.5555555555555556,
              "#d8576b"
             ],
             [
              0.6666666666666666,
              "#ed7953"
             ],
             [
              0.7777777777777778,
              "#fb9f3a"
             ],
             [
              0.8888888888888888,
              "#fdca26"
             ],
             [
              1,
              "#f0f921"
             ]
            ],
            "type": "contour"
           }
          ],
          "contourcarpet": [
           {
            "colorbar": {
             "outlinewidth": 0,
             "ticks": ""
            },
            "type": "contourcarpet"
           }
          ],
          "heatmap": [
           {
            "colorbar": {
             "outlinewidth": 0,
             "ticks": ""
            },
            "colorscale": [
             [
              0,
              "#0d0887"
             ],
             [
              0.1111111111111111,
              "#46039f"
             ],
             [
              0.2222222222222222,
              "#7201a8"
             ],
             [
              0.3333333333333333,
              "#9c179e"
             ],
             [
              0.4444444444444444,
              "#bd3786"
             ],
             [
              0.5555555555555556,
              "#d8576b"
             ],
             [
              0.6666666666666666,
              "#ed7953"
             ],
             [
              0.7777777777777778,
              "#fb9f3a"
             ],
             [
              0.8888888888888888,
              "#fdca26"
             ],
             [
              1,
              "#f0f921"
             ]
            ],
            "type": "heatmap"
           }
          ],
          "heatmapgl": [
           {
            "colorbar": {
             "outlinewidth": 0,
             "ticks": ""
            },
            "colorscale": [
             [
              0,
              "#0d0887"
             ],
             [
              0.1111111111111111,
              "#46039f"
             ],
             [
              0.2222222222222222,
              "#7201a8"
             ],
             [
              0.3333333333333333,
              "#9c179e"
             ],
             [
              0.4444444444444444,
              "#bd3786"
             ],
             [
              0.5555555555555556,
              "#d8576b"
             ],
             [
              0.6666666666666666,
              "#ed7953"
             ],
             [
              0.7777777777777778,
              "#fb9f3a"
             ],
             [
              0.8888888888888888,
              "#fdca26"
             ],
             [
              1,
              "#f0f921"
             ]
            ],
            "type": "heatmapgl"
           }
          ],
          "histogram": [
           {
            "marker": {
             "colorbar": {
              "outlinewidth": 0,
              "ticks": ""
             }
            },
            "type": "histogram"
           }
          ],
          "histogram2d": [
           {
            "colorbar": {
             "outlinewidth": 0,
             "ticks": ""
            },
            "colorscale": [
             [
              0,
              "#0d0887"
             ],
             [
              0.1111111111111111,
              "#46039f"
             ],
             [
              0.2222222222222222,
              "#7201a8"
             ],
             [
              0.3333333333333333,
              "#9c179e"
             ],
             [
              0.4444444444444444,
              "#bd3786"
             ],
             [
              0.5555555555555556,
              "#d8576b"
             ],
             [
              0.6666666666666666,
              "#ed7953"
             ],
             [
              0.7777777777777778,
              "#fb9f3a"
             ],
             [
              0.8888888888888888,
              "#fdca26"
             ],
             [
              1,
              "#f0f921"
             ]
            ],
            "type": "histogram2d"
           }
          ],
          "histogram2dcontour": [
           {
            "colorbar": {
             "outlinewidth": 0,
             "ticks": ""
            },
            "colorscale": [
             [
              0,
              "#0d0887"
             ],
             [
              0.1111111111111111,
              "#46039f"
             ],
             [
              0.2222222222222222,
              "#7201a8"
             ],
             [
              0.3333333333333333,
              "#9c179e"
             ],
             [
              0.4444444444444444,
              "#bd3786"
             ],
             [
              0.5555555555555556,
              "#d8576b"
             ],
             [
              0.6666666666666666,
              "#ed7953"
             ],
             [
              0.7777777777777778,
              "#fb9f3a"
             ],
             [
              0.8888888888888888,
              "#fdca26"
             ],
             [
              1,
              "#f0f921"
             ]
            ],
            "type": "histogram2dcontour"
           }
          ],
          "mesh3d": [
           {
            "colorbar": {
             "outlinewidth": 0,
             "ticks": ""
            },
            "type": "mesh3d"
           }
          ],
          "parcoords": [
           {
            "line": {
             "colorbar": {
              "outlinewidth": 0,
              "ticks": ""
             }
            },
            "type": "parcoords"
           }
          ],
          "pie": [
           {
            "automargin": true,
            "type": "pie"
           }
          ],
          "scatter": [
           {
            "marker": {
             "colorbar": {
              "outlinewidth": 0,
              "ticks": ""
             }
            },
            "type": "scatter"
           }
          ],
          "scatter3d": [
           {
            "line": {
             "colorbar": {
              "outlinewidth": 0,
              "ticks": ""
             }
            },
            "marker": {
             "colorbar": {
              "outlinewidth": 0,
              "ticks": ""
             }
            },
            "type": "scatter3d"
           }
          ],
          "scattercarpet": [
           {
            "marker": {
             "colorbar": {
              "outlinewidth": 0,
              "ticks": ""
             }
            },
            "type": "scattercarpet"
           }
          ],
          "scattergeo": [
           {
            "marker": {
             "colorbar": {
              "outlinewidth": 0,
              "ticks": ""
             }
            },
            "type": "scattergeo"
           }
          ],
          "scattergl": [
           {
            "marker": {
             "colorbar": {
              "outlinewidth": 0,
              "ticks": ""
             }
            },
            "type": "scattergl"
           }
          ],
          "scattermapbox": [
           {
            "marker": {
             "colorbar": {
              "outlinewidth": 0,
              "ticks": ""
             }
            },
            "type": "scattermapbox"
           }
          ],
          "scatterpolar": [
           {
            "marker": {
             "colorbar": {
              "outlinewidth": 0,
              "ticks": ""
             }
            },
            "type": "scatterpolar"
           }
          ],
          "scatterpolargl": [
           {
            "marker": {
             "colorbar": {
              "outlinewidth": 0,
              "ticks": ""
             }
            },
            "type": "scatterpolargl"
           }
          ],
          "scatterternary": [
           {
            "marker": {
             "colorbar": {
              "outlinewidth": 0,
              "ticks": ""
             }
            },
            "type": "scatterternary"
           }
          ],
          "surface": [
           {
            "colorbar": {
             "outlinewidth": 0,
             "ticks": ""
            },
            "colorscale": [
             [
              0,
              "#0d0887"
             ],
             [
              0.1111111111111111,
              "#46039f"
             ],
             [
              0.2222222222222222,
              "#7201a8"
             ],
             [
              0.3333333333333333,
              "#9c179e"
             ],
             [
              0.4444444444444444,
              "#bd3786"
             ],
             [
              0.5555555555555556,
              "#d8576b"
             ],
             [
              0.6666666666666666,
              "#ed7953"
             ],
             [
              0.7777777777777778,
              "#fb9f3a"
             ],
             [
              0.8888888888888888,
              "#fdca26"
             ],
             [
              1,
              "#f0f921"
             ]
            ],
            "type": "surface"
           }
          ],
          "table": [
           {
            "cells": {
             "fill": {
              "color": "#EBF0F8"
             },
             "line": {
              "color": "white"
             }
            },
            "header": {
             "fill": {
              "color": "#C8D4E3"
             },
             "line": {
              "color": "white"
             }
            },
            "type": "table"
           }
          ]
         },
         "layout": {
          "annotationdefaults": {
           "arrowcolor": "#2a3f5f",
           "arrowhead": 0,
           "arrowwidth": 1
          },
          "coloraxis": {
           "colorbar": {
            "outlinewidth": 0,
            "ticks": ""
           }
          },
          "colorscale": {
           "diverging": [
            [
             0,
             "#8e0152"
            ],
            [
             0.1,
             "#c51b7d"
            ],
            [
             0.2,
             "#de77ae"
            ],
            [
             0.3,
             "#f1b6da"
            ],
            [
             0.4,
             "#fde0ef"
            ],
            [
             0.5,
             "#f7f7f7"
            ],
            [
             0.6,
             "#e6f5d0"
            ],
            [
             0.7,
             "#b8e186"
            ],
            [
             0.8,
             "#7fbc41"
            ],
            [
             0.9,
             "#4d9221"
            ],
            [
             1,
             "#276419"
            ]
           ],
           "sequential": [
            [
             0,
             "#0d0887"
            ],
            [
             0.1111111111111111,
             "#46039f"
            ],
            [
             0.2222222222222222,
             "#7201a8"
            ],
            [
             0.3333333333333333,
             "#9c179e"
            ],
            [
             0.4444444444444444,
             "#bd3786"
            ],
            [
             0.5555555555555556,
             "#d8576b"
            ],
            [
             0.6666666666666666,
             "#ed7953"
            ],
            [
             0.7777777777777778,
             "#fb9f3a"
            ],
            [
             0.8888888888888888,
             "#fdca26"
            ],
            [
             1,
             "#f0f921"
            ]
           ],
           "sequentialminus": [
            [
             0,
             "#0d0887"
            ],
            [
             0.1111111111111111,
             "#46039f"
            ],
            [
             0.2222222222222222,
             "#7201a8"
            ],
            [
             0.3333333333333333,
             "#9c179e"
            ],
            [
             0.4444444444444444,
             "#bd3786"
            ],
            [
             0.5555555555555556,
             "#d8576b"
            ],
            [
             0.6666666666666666,
             "#ed7953"
            ],
            [
             0.7777777777777778,
             "#fb9f3a"
            ],
            [
             0.8888888888888888,
             "#fdca26"
            ],
            [
             1,
             "#f0f921"
            ]
           ]
          },
          "colorway": [
           "#1f77b4",
           "#ff7f0e",
           "#2ca02c",
           "#d62728",
           "#9467bd",
           "#8c564b",
           "#e377c2",
           "#7f7f7f",
           "#bcbd22",
           "#17becf"
          ],
          "font": {
           "color": "#2a3f5f"
          },
          "geo": {
           "bgcolor": "white",
           "lakecolor": "white",
           "landcolor": "white",
           "showlakes": true,
           "showland": true,
           "subunitcolor": "#C8D4E3"
          },
          "hoverlabel": {
           "align": "left"
          },
          "hovermode": "closest",
          "mapbox": {
           "style": "light"
          },
          "paper_bgcolor": "white",
          "plot_bgcolor": "white",
          "polar": {
           "angularaxis": {
            "gridcolor": "#EBF0F8",
            "linecolor": "#EBF0F8",
            "ticks": ""
           },
           "bgcolor": "white",
           "radialaxis": {
            "gridcolor": "#EBF0F8",
            "linecolor": "#EBF0F8",
            "ticks": ""
           }
          },
          "scene": {
           "xaxis": {
            "backgroundcolor": "white",
            "gridcolor": "#DFE8F3",
            "gridwidth": 2,
            "linecolor": "#EBF0F8",
            "showbackground": true,
            "showspikes": false,
            "ticks": "",
            "zerolinecolor": "#EBF0F8"
           },
           "yaxis": {
            "backgroundcolor": "white",
            "gridcolor": "#DFE8F3",
            "gridwidth": 2,
            "linecolor": "#EBF0F8",
            "showbackground": true,
            "showspikes": false,
            "ticks": "",
            "zerolinecolor": "#EBF0F8"
           },
           "zaxis": {
            "backgroundcolor": "white",
            "gridcolor": "#DFE8F3",
            "gridwidth": 2,
            "linecolor": "#EBF0F8",
            "showbackground": true,
            "showspikes": false,
            "ticks": "",
            "zerolinecolor": "#EBF0F8"
           }
          },
          "shapedefaults": {
           "line": {
            "color": "#2a3f5f"
           }
          },
          "ternary": {
           "aaxis": {
            "gridcolor": "#DFE8F3",
            "linecolor": "#A2B1C6",
            "ticks": ""
           },
           "baxis": {
            "gridcolor": "#DFE8F3",
            "linecolor": "#A2B1C6",
            "ticks": ""
           },
           "bgcolor": "white",
           "caxis": {
            "gridcolor": "#DFE8F3",
            "linecolor": "#A2B1C6",
            "ticks": ""
           }
          },
          "title": {
           "x": 0.05
          },
          "xaxis": {
           "automargin": true,
           "gridcolor": "#EBF0F8",
           "linecolor": "black",
           "linewidth": 2,
           "mirror": true,
           "showline": true,
           "ticks": "",
           "title": {
            "standoff": 15
           },
           "zeroline": false,
           "zerolinecolor": "#EBF0F8",
           "zerolinewidth": 2
          },
          "yaxis": {
           "automargin": true,
           "gridcolor": "#EBF0F8",
           "linecolor": "black",
           "linewidth": 2,
           "mirror": true,
           "showline": true,
           "ticks": "",
           "title": {
            "standoff": 15
           },
           "zeroline": false,
           "zerolinecolor": "#EBF0F8",
           "zerolinewidth": 2
          }
         }
        },
        "width": 800,
        "xaxis": {
         "range": [
          11636.43,
          22525.77
         ],
         "title": {
          "text": "Volume Flow (m<sup>3</sup>/h)"
         }
        },
        "yaxis": {
         "title": {
          "text": "Eff ()"
         }
        }
       }
      }
     },
     "metadata": {},
     "output_type": "display_data"
    }
   ],
   "source": [
    "fig = new_imp_2sec.eff_plot(flow_v_units=\"m**3/h\",\n",
    "                    speed_units=\"rpm\",flow_v= new_point_2sec.flow_v, speed = new_point_2sec.speed)\n",
    "fig.update_layout(height=450,width=800)"
   ]
  },
  {
   "cell_type": "code",
   "execution_count": 18,
   "id": "c96f0907",
   "metadata": {},
   "outputs": [
    {
     "data": {
      "application/vnd.plotly.v1+json": {
       "config": {
        "plotlyServerURL": "https://plot.ly"
       },
       "data": [
        {
         "name": "5086.0 revolutions_per_minute",
         "type": "scatter",
         "x": [
          46700.2,
          47493.43448275862,
          48286.66896551724,
          49079.90344827586,
          49873.13793103448,
          50666.3724137931,
          51459.606896551726,
          52252.84137931034,
          53046.07586206897,
          53839.31034482758,
          54632.54482758621,
          55425.77931034483,
          56219.01379310345,
          57012.24827586207,
          57805.48275862069,
          58598.71724137931,
          59391.95172413793,
          60185.18620689654,
          60978.42068965517,
          61771.65517241379,
          62564.88965517241,
          63358.12413793104,
          64151.35862068966,
          64944.59310344827,
          65737.8275862069,
          66531.06206896552,
          67324.29655172414,
          68117.53103448276,
          68910.76551724138,
          69704
         ],
         "y": [
          382.11757774876105,
          381.75327278444166,
          381.3841569911443,
          381.00904824670806,
          380.6267644289721,
          380.2361234157754,
          379.83594308495736,
          379.42504131435675,
          379.0022359818128,
          378.5663449651648,
          378.11618614225154,
          377.6505773909124,
          377.16833658898645,
          376.6682816143126,
          376.14923034473014,
          375.6099414809076,
          375.0478126485899,
          374.45888039859864,
          373.8391221045847,
          373.1845151401989,
          372.49103687909246,
          371.754664694916,
          370.9713759613205,
          370.13714805195707,
          369.2479583404763,
          368.2997842005294,
          367.2886030057671,
          366.2103921298405,
          365.06112894640034,
          363.83679082909765
         ]
        },
        {
         "name": "5354.0 revolutions_per_minute",
         "type": "scatter",
         "x": [
          54112.5,
          54892.51724137931,
          55672.53448275862,
          56452.551724137935,
          57232.56896551724,
          58012.58620689656,
          58792.60344827587,
          59572.62068965517,
          60352.637931034486,
          61132.6551724138,
          61912.67241379311,
          62692.68965517241,
          63472.706896551725,
          64252.724137931036,
          65032.74137931035,
          65812.75862068965,
          66592.77586206897,
          67372.79310344828,
          68152.8103448276,
          68932.8275862069,
          69712.8448275862,
          70492.86206896552,
          71272.87931034483,
          72052.89655172414,
          72832.91379310345,
          73612.93103448275,
          74392.94827586207,
          75172.96551724138,
          75952.98275862068,
          76733
         ],
         "y": [
          388.56065031595847,
          388.21160843208435,
          387.8459257269555,
          387.4638409214456,
          387.06559273642847,
          386.65141989277765,
          386.221561111367,
          385.7762551130702,
          385.31574061876097,
          384.840256349313,
          384.35004102560015,
          383.8453333684958,
          383.32637209887395,
          382.79339593760824,
          382.24664360557244,
          381.6861709401432,
          381.1078274582702,
          380.5032563564753,
          379.8639179477836,
          379.1812725452203,
          378.4467804618104,
          377.6519020105792,
          376.7880975045517,
          375.846827256753,
          374.8195515802084,
          373.6977307879429,
          372.4728251929816,
          371.1362951083496,
          369.6796008470721,
          368.09420272217426
         ]
        },
        {
         "name": "5621.0 revolutions_per_minute",
         "type": "scatter",
         "x": [
          63633.59999999999,
          64302.893103448274,
          64972.18620689655,
          65641.47931034483,
          66310.77241379309,
          66980.06551724138,
          67649.35862068966,
          68318.65172413793,
          68987.94482758621,
          69657.23793103448,
          70326.53103448276,
          70995.82413793103,
          71665.11724137931,
          72334.41034482759,
          73003.70344827586,
          73672.99655172414,
          74342.28965517241,
          75011.5827586207,
          75680.87586206896,
          76350.16896551725,
          77019.46206896551,
          77688.7551724138,
          78358.04827586206,
          79027.34137931035,
          79696.63448275863,
          80365.9275862069,
          81035.22068965518,
          81704.51379310346,
          82373.80689655175,
          83043.1
         ],
         "y": [
          394.6047178823215,
          394.28236823660825,
          393.9443582626972,
          393.5904665284324,
          393.2204716016575,
          392.8341520502165,
          392.43128644195326,
          392.01165334471165,
          391.57503132633553,
          391.12119895466884,
          390.6499347975552,
          390.1610174228388,
          389.65422539836334,
          389.1293372919726,
          388.58613167151066,
          388.0242093307801,
          387.4390822606392,
          386.82217364900123,
          386.1647289097385,
          385.45799345672333,
          384.6932127038282,
          383.8616320649253,
          382.9544969538867,
          381.96305278458516,
          380.87854497089273,
          379.6922189266818,
          378.3953200658247,
          376.9790938021936,
          375.43478554966094,
          373.7536407220991
         ]
        },
        {
         "name": "5354.0 revolutions_per_minute",
         "type": "scatter",
         "x": [
          54112.5,
          54892.51724137931,
          55672.53448275862,
          56452.551724137935,
          57232.56896551724,
          58012.58620689656,
          58792.60344827587,
          59572.62068965517,
          60352.637931034486,
          61132.6551724138,
          61912.67241379311,
          62692.68965517241,
          63472.706896551725,
          64252.724137931036,
          65032.74137931035,
          65812.75862068965,
          66592.77586206897,
          67372.79310344828,
          68152.8103448276,
          68932.8275862069,
          69712.8448275862,
          70492.86206896552,
          71272.87931034483,
          72052.89655172414,
          72832.91379310345,
          73612.93103448275,
          74392.94827586207,
          75172.96551724138,
          75952.98275862068,
          76733
         ],
         "y": [
          388.56065031595847,
          388.21160843208435,
          387.8459257269555,
          387.4638409214456,
          387.06559273642847,
          386.65141989277765,
          386.221561111367,
          385.7762551130702,
          385.31574061876097,
          384.840256349313,
          384.35004102560015,
          383.8453333684958,
          383.32637209887395,
          382.79339593760824,
          382.24664360557244,
          381.6861709401432,
          381.1078274582702,
          380.5032563564753,
          379.8639179477836,
          379.1812725452203,
          378.4467804618104,
          377.6519020105792,
          376.7880975045517,
          375.846827256753,
          374.8195515802084,
          373.6977307879429,
          372.4728251929816,
          371.1362951083496,
          369.6796008470721,
          368.09420272217426
         ]
        },
        {
         "name": "Flow: 72852.63, disch.T: 374.21",
         "type": "scatter",
         "x": [
          72852.6281846511
         ],
         "y": [
          374.21261767983555
         ]
        }
       ],
       "layout": {
        "height": 450,
        "template": {
         "data": {
          "bar": [
           {
            "error_x": {
             "color": "#2a3f5f"
            },
            "error_y": {
             "color": "#2a3f5f"
            },
            "marker": {
             "line": {
              "color": "white",
              "width": 0.5
             }
            },
            "type": "bar"
           }
          ],
          "barpolar": [
           {
            "marker": {
             "line": {
              "color": "white",
              "width": 0.5
             }
            },
            "type": "barpolar"
           }
          ],
          "carpet": [
           {
            "aaxis": {
             "endlinecolor": "#2a3f5f",
             "gridcolor": "#C8D4E3",
             "linecolor": "#C8D4E3",
             "minorgridcolor": "#C8D4E3",
             "startlinecolor": "#2a3f5f"
            },
            "baxis": {
             "endlinecolor": "#2a3f5f",
             "gridcolor": "#C8D4E3",
             "linecolor": "#C8D4E3",
             "minorgridcolor": "#C8D4E3",
             "startlinecolor": "#2a3f5f"
            },
            "type": "carpet"
           }
          ],
          "choropleth": [
           {
            "colorbar": {
             "outlinewidth": 0,
             "ticks": ""
            },
            "type": "choropleth"
           }
          ],
          "contour": [
           {
            "colorbar": {
             "outlinewidth": 0,
             "ticks": ""
            },
            "colorscale": [
             [
              0,
              "#0d0887"
             ],
             [
              0.1111111111111111,
              "#46039f"
             ],
             [
              0.2222222222222222,
              "#7201a8"
             ],
             [
              0.3333333333333333,
              "#9c179e"
             ],
             [
              0.4444444444444444,
              "#bd3786"
             ],
             [
              0.5555555555555556,
              "#d8576b"
             ],
             [
              0.6666666666666666,
              "#ed7953"
             ],
             [
              0.7777777777777778,
              "#fb9f3a"
             ],
             [
              0.8888888888888888,
              "#fdca26"
             ],
             [
              1,
              "#f0f921"
             ]
            ],
            "type": "contour"
           }
          ],
          "contourcarpet": [
           {
            "colorbar": {
             "outlinewidth": 0,
             "ticks": ""
            },
            "type": "contourcarpet"
           }
          ],
          "heatmap": [
           {
            "colorbar": {
             "outlinewidth": 0,
             "ticks": ""
            },
            "colorscale": [
             [
              0,
              "#0d0887"
             ],
             [
              0.1111111111111111,
              "#46039f"
             ],
             [
              0.2222222222222222,
              "#7201a8"
             ],
             [
              0.3333333333333333,
              "#9c179e"
             ],
             [
              0.4444444444444444,
              "#bd3786"
             ],
             [
              0.5555555555555556,
              "#d8576b"
             ],
             [
              0.6666666666666666,
              "#ed7953"
             ],
             [
              0.7777777777777778,
              "#fb9f3a"
             ],
             [
              0.8888888888888888,
              "#fdca26"
             ],
             [
              1,
              "#f0f921"
             ]
            ],
            "type": "heatmap"
           }
          ],
          "heatmapgl": [
           {
            "colorbar": {
             "outlinewidth": 0,
             "ticks": ""
            },
            "colorscale": [
             [
              0,
              "#0d0887"
             ],
             [
              0.1111111111111111,
              "#46039f"
             ],
             [
              0.2222222222222222,
              "#7201a8"
             ],
             [
              0.3333333333333333,
              "#9c179e"
             ],
             [
              0.4444444444444444,
              "#bd3786"
             ],
             [
              0.5555555555555556,
              "#d8576b"
             ],
             [
              0.6666666666666666,
              "#ed7953"
             ],
             [
              0.7777777777777778,
              "#fb9f3a"
             ],
             [
              0.8888888888888888,
              "#fdca26"
             ],
             [
              1,
              "#f0f921"
             ]
            ],
            "type": "heatmapgl"
           }
          ],
          "histogram": [
           {
            "marker": {
             "colorbar": {
              "outlinewidth": 0,
              "ticks": ""
             }
            },
            "type": "histogram"
           }
          ],
          "histogram2d": [
           {
            "colorbar": {
             "outlinewidth": 0,
             "ticks": ""
            },
            "colorscale": [
             [
              0,
              "#0d0887"
             ],
             [
              0.1111111111111111,
              "#46039f"
             ],
             [
              0.2222222222222222,
              "#7201a8"
             ],
             [
              0.3333333333333333,
              "#9c179e"
             ],
             [
              0.4444444444444444,
              "#bd3786"
             ],
             [
              0.5555555555555556,
              "#d8576b"
             ],
             [
              0.6666666666666666,
              "#ed7953"
             ],
             [
              0.7777777777777778,
              "#fb9f3a"
             ],
             [
              0.8888888888888888,
              "#fdca26"
             ],
             [
              1,
              "#f0f921"
             ]
            ],
            "type": "histogram2d"
           }
          ],
          "histogram2dcontour": [
           {
            "colorbar": {
             "outlinewidth": 0,
             "ticks": ""
            },
            "colorscale": [
             [
              0,
              "#0d0887"
             ],
             [
              0.1111111111111111,
              "#46039f"
             ],
             [
              0.2222222222222222,
              "#7201a8"
             ],
             [
              0.3333333333333333,
              "#9c179e"
             ],
             [
              0.4444444444444444,
              "#bd3786"
             ],
             [
              0.5555555555555556,
              "#d8576b"
             ],
             [
              0.6666666666666666,
              "#ed7953"
             ],
             [
              0.7777777777777778,
              "#fb9f3a"
             ],
             [
              0.8888888888888888,
              "#fdca26"
             ],
             [
              1,
              "#f0f921"
             ]
            ],
            "type": "histogram2dcontour"
           }
          ],
          "mesh3d": [
           {
            "colorbar": {
             "outlinewidth": 0,
             "ticks": ""
            },
            "type": "mesh3d"
           }
          ],
          "parcoords": [
           {
            "line": {
             "colorbar": {
              "outlinewidth": 0,
              "ticks": ""
             }
            },
            "type": "parcoords"
           }
          ],
          "pie": [
           {
            "automargin": true,
            "type": "pie"
           }
          ],
          "scatter": [
           {
            "marker": {
             "colorbar": {
              "outlinewidth": 0,
              "ticks": ""
             }
            },
            "type": "scatter"
           }
          ],
          "scatter3d": [
           {
            "line": {
             "colorbar": {
              "outlinewidth": 0,
              "ticks": ""
             }
            },
            "marker": {
             "colorbar": {
              "outlinewidth": 0,
              "ticks": ""
             }
            },
            "type": "scatter3d"
           }
          ],
          "scattercarpet": [
           {
            "marker": {
             "colorbar": {
              "outlinewidth": 0,
              "ticks": ""
             }
            },
            "type": "scattercarpet"
           }
          ],
          "scattergeo": [
           {
            "marker": {
             "colorbar": {
              "outlinewidth": 0,
              "ticks": ""
             }
            },
            "type": "scattergeo"
           }
          ],
          "scattergl": [
           {
            "marker": {
             "colorbar": {
              "outlinewidth": 0,
              "ticks": ""
             }
            },
            "type": "scattergl"
           }
          ],
          "scattermapbox": [
           {
            "marker": {
             "colorbar": {
              "outlinewidth": 0,
              "ticks": ""
             }
            },
            "type": "scattermapbox"
           }
          ],
          "scatterpolar": [
           {
            "marker": {
             "colorbar": {
              "outlinewidth": 0,
              "ticks": ""
             }
            },
            "type": "scatterpolar"
           }
          ],
          "scatterpolargl": [
           {
            "marker": {
             "colorbar": {
              "outlinewidth": 0,
              "ticks": ""
             }
            },
            "type": "scatterpolargl"
           }
          ],
          "scatterternary": [
           {
            "marker": {
             "colorbar": {
              "outlinewidth": 0,
              "ticks": ""
             }
            },
            "type": "scatterternary"
           }
          ],
          "surface": [
           {
            "colorbar": {
             "outlinewidth": 0,
             "ticks": ""
            },
            "colorscale": [
             [
              0,
              "#0d0887"
             ],
             [
              0.1111111111111111,
              "#46039f"
             ],
             [
              0.2222222222222222,
              "#7201a8"
             ],
             [
              0.3333333333333333,
              "#9c179e"
             ],
             [
              0.4444444444444444,
              "#bd3786"
             ],
             [
              0.5555555555555556,
              "#d8576b"
             ],
             [
              0.6666666666666666,
              "#ed7953"
             ],
             [
              0.7777777777777778,
              "#fb9f3a"
             ],
             [
              0.8888888888888888,
              "#fdca26"
             ],
             [
              1,
              "#f0f921"
             ]
            ],
            "type": "surface"
           }
          ],
          "table": [
           {
            "cells": {
             "fill": {
              "color": "#EBF0F8"
             },
             "line": {
              "color": "white"
             }
            },
            "header": {
             "fill": {
              "color": "#C8D4E3"
             },
             "line": {
              "color": "white"
             }
            },
            "type": "table"
           }
          ]
         },
         "layout": {
          "annotationdefaults": {
           "arrowcolor": "#2a3f5f",
           "arrowhead": 0,
           "arrowwidth": 1
          },
          "coloraxis": {
           "colorbar": {
            "outlinewidth": 0,
            "ticks": ""
           }
          },
          "colorscale": {
           "diverging": [
            [
             0,
             "#8e0152"
            ],
            [
             0.1,
             "#c51b7d"
            ],
            [
             0.2,
             "#de77ae"
            ],
            [
             0.3,
             "#f1b6da"
            ],
            [
             0.4,
             "#fde0ef"
            ],
            [
             0.5,
             "#f7f7f7"
            ],
            [
             0.6,
             "#e6f5d0"
            ],
            [
             0.7,
             "#b8e186"
            ],
            [
             0.8,
             "#7fbc41"
            ],
            [
             0.9,
             "#4d9221"
            ],
            [
             1,
             "#276419"
            ]
           ],
           "sequential": [
            [
             0,
             "#0d0887"
            ],
            [
             0.1111111111111111,
             "#46039f"
            ],
            [
             0.2222222222222222,
             "#7201a8"
            ],
            [
             0.3333333333333333,
             "#9c179e"
            ],
            [
             0.4444444444444444,
             "#bd3786"
            ],
            [
             0.5555555555555556,
             "#d8576b"
            ],
            [
             0.6666666666666666,
             "#ed7953"
            ],
            [
             0.7777777777777778,
             "#fb9f3a"
            ],
            [
             0.8888888888888888,
             "#fdca26"
            ],
            [
             1,
             "#f0f921"
            ]
           ],
           "sequentialminus": [
            [
             0,
             "#0d0887"
            ],
            [
             0.1111111111111111,
             "#46039f"
            ],
            [
             0.2222222222222222,
             "#7201a8"
            ],
            [
             0.3333333333333333,
             "#9c179e"
            ],
            [
             0.4444444444444444,
             "#bd3786"
            ],
            [
             0.5555555555555556,
             "#d8576b"
            ],
            [
             0.6666666666666666,
             "#ed7953"
            ],
            [
             0.7777777777777778,
             "#fb9f3a"
            ],
            [
             0.8888888888888888,
             "#fdca26"
            ],
            [
             1,
             "#f0f921"
            ]
           ]
          },
          "colorway": [
           "#1f77b4",
           "#ff7f0e",
           "#2ca02c",
           "#d62728",
           "#9467bd",
           "#8c564b",
           "#e377c2",
           "#7f7f7f",
           "#bcbd22",
           "#17becf"
          ],
          "font": {
           "color": "#2a3f5f"
          },
          "geo": {
           "bgcolor": "white",
           "lakecolor": "white",
           "landcolor": "white",
           "showlakes": true,
           "showland": true,
           "subunitcolor": "#C8D4E3"
          },
          "hoverlabel": {
           "align": "left"
          },
          "hovermode": "closest",
          "mapbox": {
           "style": "light"
          },
          "paper_bgcolor": "white",
          "plot_bgcolor": "white",
          "polar": {
           "angularaxis": {
            "gridcolor": "#EBF0F8",
            "linecolor": "#EBF0F8",
            "ticks": ""
           },
           "bgcolor": "white",
           "radialaxis": {
            "gridcolor": "#EBF0F8",
            "linecolor": "#EBF0F8",
            "ticks": ""
           }
          },
          "scene": {
           "xaxis": {
            "backgroundcolor": "white",
            "gridcolor": "#DFE8F3",
            "gridwidth": 2,
            "linecolor": "#EBF0F8",
            "showbackground": true,
            "showspikes": false,
            "ticks": "",
            "zerolinecolor": "#EBF0F8"
           },
           "yaxis": {
            "backgroundcolor": "white",
            "gridcolor": "#DFE8F3",
            "gridwidth": 2,
            "linecolor": "#EBF0F8",
            "showbackground": true,
            "showspikes": false,
            "ticks": "",
            "zerolinecolor": "#EBF0F8"
           },
           "zaxis": {
            "backgroundcolor": "white",
            "gridcolor": "#DFE8F3",
            "gridwidth": 2,
            "linecolor": "#EBF0F8",
            "showbackground": true,
            "showspikes": false,
            "ticks": "",
            "zerolinecolor": "#EBF0F8"
           }
          },
          "shapedefaults": {
           "line": {
            "color": "#2a3f5f"
           }
          },
          "ternary": {
           "aaxis": {
            "gridcolor": "#DFE8F3",
            "linecolor": "#A2B1C6",
            "ticks": ""
           },
           "baxis": {
            "gridcolor": "#DFE8F3",
            "linecolor": "#A2B1C6",
            "ticks": ""
           },
           "bgcolor": "white",
           "caxis": {
            "gridcolor": "#DFE8F3",
            "linecolor": "#A2B1C6",
            "ticks": ""
           }
          },
          "title": {
           "x": 0.05
          },
          "xaxis": {
           "automargin": true,
           "gridcolor": "#EBF0F8",
           "linecolor": "black",
           "linewidth": 2,
           "mirror": true,
           "showline": true,
           "ticks": "",
           "title": {
            "standoff": 15
           },
           "zeroline": false,
           "zerolinecolor": "#EBF0F8",
           "zerolinewidth": 2
          },
          "yaxis": {
           "automargin": true,
           "gridcolor": "#EBF0F8",
           "linecolor": "black",
           "linewidth": 2,
           "mirror": true,
           "showline": true,
           "ticks": "",
           "title": {
            "standoff": 15
           },
           "zeroline": false,
           "zerolinecolor": "#EBF0F8",
           "zerolinewidth": 2
          }
         }
        },
        "width": 800,
        "xaxis": {
         "range": [
          44883.05499999999,
          84860.24500000001
         ],
         "title": {
          "text": "Volume Flow (m<sup>3</sup>/h)"
         }
        },
        "yaxis": {
         "title": {
          "text": "T (K)"
         }
        }
       }
      }
     },
     "metadata": {},
     "output_type": "display_data"
    }
   ],
   "source": [
    "fig = imp_1sec.disch.T_plot(flow_v_units=\"m**3/h\", temperature_units=\"degC\",\n",
    "                    speed_units=\"rpm\",flow_v= point_1sec.flow_v, speed = point_1sec.speed)\n",
    "fig.update_layout(height=450,width=800)"
   ]
  },
  {
   "cell_type": "code",
   "execution_count": 19,
   "id": "0c0ff817",
   "metadata": {},
   "outputs": [
    {
     "data": {
      "application/vnd.plotly.v1+json": {
       "config": {
        "plotlyServerURL": "https://plot.ly"
       },
       "data": [
        {
         "name": "5086.0 revolutions_per_minute",
         "type": "scatter",
         "x": [
          12131.4,
          12339.879310344828,
          12548.358620689654,
          12756.837931034483,
          12965.317241379309,
          13173.796551724137,
          13382.275862068966,
          13590.755172413792,
          13799.23448275862,
          14007.713793103447,
          14216.193103448275,
          14424.672413793103,
          14633.15172413793,
          14841.63103448276,
          15050.110344827584,
          15258.589655172414,
          15467.06896551724,
          15675.54827586207,
          15884.027586206896,
          16092.506896551724,
          16300.98620689655,
          16509.46551724138,
          16717.944827586205,
          16926.424137931033,
          17134.90344827586,
          17343.38275862069,
          17551.862068965514,
          17760.341379310343,
          17968.820689655175,
          18177.3
         ],
         "y": [
          395.47976707359385,
          395.10925093952704,
          394.730638056523,
          394.34427944058524,
          393.9505261077171,
          393.5497290739225,
          393.1422393552047,
          392.7284079675673,
          392.30858592701395,
          391.88312424954813,
          391.4523739511734,
          391.01668604789324,
          390.57641155571116,
          390.13190149063104,
          389.683506868656,
          389.2314620800568,
          388.7733191232448,
          388.30394760477225,
          387.81810050545835,
          387.3105308061223,
          386.77599148758355,
          386.209235530661,
          385.60501591617424,
          384.95808562494216,
          384.2631976377842,
          383.5151049355196,
          382.7085604989676,
          381.8383173089473,
          380.8991283462781,
          379.88574659177914
         ]
        },
        {
         "name": "5354.0 revolutions_per_minute",
         "type": "scatter",
         "x": [
          14302.9,
          14502.068965517243,
          14701.237931034484,
          14900.406896551724,
          15099.575862068965,
          15298.744827586206,
          15497.91379310345,
          15697.08275862069,
          15896.251724137932,
          16095.420689655171,
          16294.589655172413,
          16493.758620689656,
          16692.927586206897,
          16892.09655172414,
          17091.26551724138,
          17290.43448275862,
          17489.603448275862,
          17688.772413793104,
          17887.941379310345,
          18087.110344827586,
          18286.279310344828,
          18485.448275862072,
          18684.617241379314,
          18883.78620689655,
          19082.955172413793,
          19282.124137931034,
          19481.293103448275,
          19680.462068965517,
          19879.63103448276,
          20078.8
         ],
         "y": [
          402.5845398196946,
          402.2432727877283,
          401.89656854712075,
          401.54408931031,
          401.18549728973466,
          400.8204546978327,
          400.4486237470426,
          400.0696666498025,
          399.68324561855087,
          399.2890228657259,
          398.8866606037659,
          398.4758210451091,
          398.0561664021941,
          397.62735888745874,
          397.1890607133415,
          396.74085243419506,
          396.2804364683984,
          395.80363709835734,
          395.3061969483921,
          394.7838586428225,
          394.23236480596876,
          393.64745806215086,
          393.0248810356889,
          392.3603763509028,
          391.64968663211283,
          390.8885545036389,
          390.07272258980106,
          389.1979335149193,
          388.2599299033137,
          387.2544543793045
         ]
        },
        {
         "name": "5621.0 revolutions_per_minute",
         "type": "scatter",
         "x": [
          17065.2,
          17236.427586206897,
          17407.655172413793,
          17578.882758620693,
          17750.11034482759,
          17921.337931034483,
          18092.56551724138,
          18263.79310344828,
          18435.020689655175,
          18606.248275862068,
          18777.475862068964,
          18948.703448275865,
          19119.93103448276,
          19291.158620689657,
          19462.38620689655,
          19633.61379310345,
          19804.841379310346,
          19976.068965517243,
          20147.296551724135,
          20318.524137931036,
          20489.751724137932,
          20660.97931034483,
          20832.206896551725,
          21003.43448275862,
          21174.662068965517,
          21345.889655172414,
          21517.11724137931,
          21688.344827586203,
          21859.572413793103,
          22030.8
         ],
         "y": [
          409.4548140217536,
          409.2112296219069,
          408.9345081021562,
          408.6276116684626,
          408.2935025267877,
          407.93514288309285,
          407.5554949433396,
          407.1575209134893,
          406.7441829995032,
          406.31844340734307,
          405.8832643429701,
          405.44160801234574,
          404.9964366214315,
          404.55071237618876,
          404.107397482579,
          403.6691966625596,
          403.23289250599964,
          402.78934547067905,
          402.3291585303739,
          401.84293465886066,
          401.3212768299153,
          400.754788017314,
          400.13407119483315,
          399.4497293362489,
          398.69236541533735,
          397.8525824058747,
          396.9209832816372,
          395.8881710164011,
          394.7447485839424,
          393.4813189580375
         ]
        },
        {
         "name": "5354.0 revolutions_per_minute",
         "type": "scatter",
         "x": [
          14302.9,
          14502.068965517243,
          14701.237931034484,
          14900.406896551724,
          15099.575862068965,
          15298.744827586206,
          15497.91379310345,
          15697.08275862069,
          15896.251724137932,
          16095.420689655171,
          16294.589655172413,
          16493.758620689656,
          16692.927586206897,
          16892.09655172414,
          17091.26551724138,
          17290.43448275862,
          17489.603448275862,
          17688.772413793104,
          17887.941379310345,
          18087.110344827586,
          18286.279310344828,
          18485.448275862072,
          18684.617241379314,
          18883.78620689655,
          19082.955172413793,
          19282.124137931034,
          19481.293103448275,
          19680.462068965517,
          19879.63103448276,
          20078.8
         ],
         "y": [
          402.5845398196946,
          402.2432727877283,
          401.89656854712075,
          401.54408931031,
          401.18549728973466,
          400.8204546978327,
          400.4486237470426,
          400.0696666498025,
          399.68324561855087,
          399.2890228657259,
          398.8866606037659,
          398.4758210451091,
          398.0561664021941,
          397.62735888745874,
          397.1890607133415,
          396.74085243419506,
          396.2804364683984,
          395.80363709835734,
          395.3061969483921,
          394.7838586428225,
          394.23236480596876,
          393.64745806215086,
          393.0248810356889,
          392.3603763509028,
          391.64968663211283,
          390.8885545036389,
          390.07272258980106,
          389.1979335149193,
          388.2599299033137,
          387.2544543793045
         ]
        },
        {
         "name": "Flow: 18597.39, disch.T: 393.28",
         "type": "scatter",
         "x": [
          18597.38718814945
         ],
         "y": [
          393.2823441799261
         ]
        }
       ],
       "layout": {
        "height": 450,
        "template": {
         "data": {
          "bar": [
           {
            "error_x": {
             "color": "#2a3f5f"
            },
            "error_y": {
             "color": "#2a3f5f"
            },
            "marker": {
             "line": {
              "color": "white",
              "width": 0.5
             }
            },
            "type": "bar"
           }
          ],
          "barpolar": [
           {
            "marker": {
             "line": {
              "color": "white",
              "width": 0.5
             }
            },
            "type": "barpolar"
           }
          ],
          "carpet": [
           {
            "aaxis": {
             "endlinecolor": "#2a3f5f",
             "gridcolor": "#C8D4E3",
             "linecolor": "#C8D4E3",
             "minorgridcolor": "#C8D4E3",
             "startlinecolor": "#2a3f5f"
            },
            "baxis": {
             "endlinecolor": "#2a3f5f",
             "gridcolor": "#C8D4E3",
             "linecolor": "#C8D4E3",
             "minorgridcolor": "#C8D4E3",
             "startlinecolor": "#2a3f5f"
            },
            "type": "carpet"
           }
          ],
          "choropleth": [
           {
            "colorbar": {
             "outlinewidth": 0,
             "ticks": ""
            },
            "type": "choropleth"
           }
          ],
          "contour": [
           {
            "colorbar": {
             "outlinewidth": 0,
             "ticks": ""
            },
            "colorscale": [
             [
              0,
              "#0d0887"
             ],
             [
              0.1111111111111111,
              "#46039f"
             ],
             [
              0.2222222222222222,
              "#7201a8"
             ],
             [
              0.3333333333333333,
              "#9c179e"
             ],
             [
              0.4444444444444444,
              "#bd3786"
             ],
             [
              0.5555555555555556,
              "#d8576b"
             ],
             [
              0.6666666666666666,
              "#ed7953"
             ],
             [
              0.7777777777777778,
              "#fb9f3a"
             ],
             [
              0.8888888888888888,
              "#fdca26"
             ],
             [
              1,
              "#f0f921"
             ]
            ],
            "type": "contour"
           }
          ],
          "contourcarpet": [
           {
            "colorbar": {
             "outlinewidth": 0,
             "ticks": ""
            },
            "type": "contourcarpet"
           }
          ],
          "heatmap": [
           {
            "colorbar": {
             "outlinewidth": 0,
             "ticks": ""
            },
            "colorscale": [
             [
              0,
              "#0d0887"
             ],
             [
              0.1111111111111111,
              "#46039f"
             ],
             [
              0.2222222222222222,
              "#7201a8"
             ],
             [
              0.3333333333333333,
              "#9c179e"
             ],
             [
              0.4444444444444444,
              "#bd3786"
             ],
             [
              0.5555555555555556,
              "#d8576b"
             ],
             [
              0.6666666666666666,
              "#ed7953"
             ],
             [
              0.7777777777777778,
              "#fb9f3a"
             ],
             [
              0.8888888888888888,
              "#fdca26"
             ],
             [
              1,
              "#f0f921"
             ]
            ],
            "type": "heatmap"
           }
          ],
          "heatmapgl": [
           {
            "colorbar": {
             "outlinewidth": 0,
             "ticks": ""
            },
            "colorscale": [
             [
              0,
              "#0d0887"
             ],
             [
              0.1111111111111111,
              "#46039f"
             ],
             [
              0.2222222222222222,
              "#7201a8"
             ],
             [
              0.3333333333333333,
              "#9c179e"
             ],
             [
              0.4444444444444444,
              "#bd3786"
             ],
             [
              0.5555555555555556,
              "#d8576b"
             ],
             [
              0.6666666666666666,
              "#ed7953"
             ],
             [
              0.7777777777777778,
              "#fb9f3a"
             ],
             [
              0.8888888888888888,
              "#fdca26"
             ],
             [
              1,
              "#f0f921"
             ]
            ],
            "type": "heatmapgl"
           }
          ],
          "histogram": [
           {
            "marker": {
             "colorbar": {
              "outlinewidth": 0,
              "ticks": ""
             }
            },
            "type": "histogram"
           }
          ],
          "histogram2d": [
           {
            "colorbar": {
             "outlinewidth": 0,
             "ticks": ""
            },
            "colorscale": [
             [
              0,
              "#0d0887"
             ],
             [
              0.1111111111111111,
              "#46039f"
             ],
             [
              0.2222222222222222,
              "#7201a8"
             ],
             [
              0.3333333333333333,
              "#9c179e"
             ],
             [
              0.4444444444444444,
              "#bd3786"
             ],
             [
              0.5555555555555556,
              "#d8576b"
             ],
             [
              0.6666666666666666,
              "#ed7953"
             ],
             [
              0.7777777777777778,
              "#fb9f3a"
             ],
             [
              0.8888888888888888,
              "#fdca26"
             ],
             [
              1,
              "#f0f921"
             ]
            ],
            "type": "histogram2d"
           }
          ],
          "histogram2dcontour": [
           {
            "colorbar": {
             "outlinewidth": 0,
             "ticks": ""
            },
            "colorscale": [
             [
              0,
              "#0d0887"
             ],
             [
              0.1111111111111111,
              "#46039f"
             ],
             [
              0.2222222222222222,
              "#7201a8"
             ],
             [
              0.3333333333333333,
              "#9c179e"
             ],
             [
              0.4444444444444444,
              "#bd3786"
             ],
             [
              0.5555555555555556,
              "#d8576b"
             ],
             [
              0.6666666666666666,
              "#ed7953"
             ],
             [
              0.7777777777777778,
              "#fb9f3a"
             ],
             [
              0.8888888888888888,
              "#fdca26"
             ],
             [
              1,
              "#f0f921"
             ]
            ],
            "type": "histogram2dcontour"
           }
          ],
          "mesh3d": [
           {
            "colorbar": {
             "outlinewidth": 0,
             "ticks": ""
            },
            "type": "mesh3d"
           }
          ],
          "parcoords": [
           {
            "line": {
             "colorbar": {
              "outlinewidth": 0,
              "ticks": ""
             }
            },
            "type": "parcoords"
           }
          ],
          "pie": [
           {
            "automargin": true,
            "type": "pie"
           }
          ],
          "scatter": [
           {
            "marker": {
             "colorbar": {
              "outlinewidth": 0,
              "ticks": ""
             }
            },
            "type": "scatter"
           }
          ],
          "scatter3d": [
           {
            "line": {
             "colorbar": {
              "outlinewidth": 0,
              "ticks": ""
             }
            },
            "marker": {
             "colorbar": {
              "outlinewidth": 0,
              "ticks": ""
             }
            },
            "type": "scatter3d"
           }
          ],
          "scattercarpet": [
           {
            "marker": {
             "colorbar": {
              "outlinewidth": 0,
              "ticks": ""
             }
            },
            "type": "scattercarpet"
           }
          ],
          "scattergeo": [
           {
            "marker": {
             "colorbar": {
              "outlinewidth": 0,
              "ticks": ""
             }
            },
            "type": "scattergeo"
           }
          ],
          "scattergl": [
           {
            "marker": {
             "colorbar": {
              "outlinewidth": 0,
              "ticks": ""
             }
            },
            "type": "scattergl"
           }
          ],
          "scattermapbox": [
           {
            "marker": {
             "colorbar": {
              "outlinewidth": 0,
              "ticks": ""
             }
            },
            "type": "scattermapbox"
           }
          ],
          "scatterpolar": [
           {
            "marker": {
             "colorbar": {
              "outlinewidth": 0,
              "ticks": ""
             }
            },
            "type": "scatterpolar"
           }
          ],
          "scatterpolargl": [
           {
            "marker": {
             "colorbar": {
              "outlinewidth": 0,
              "ticks": ""
             }
            },
            "type": "scatterpolargl"
           }
          ],
          "scatterternary": [
           {
            "marker": {
             "colorbar": {
              "outlinewidth": 0,
              "ticks": ""
             }
            },
            "type": "scatterternary"
           }
          ],
          "surface": [
           {
            "colorbar": {
             "outlinewidth": 0,
             "ticks": ""
            },
            "colorscale": [
             [
              0,
              "#0d0887"
             ],
             [
              0.1111111111111111,
              "#46039f"
             ],
             [
              0.2222222222222222,
              "#7201a8"
             ],
             [
              0.3333333333333333,
              "#9c179e"
             ],
             [
              0.4444444444444444,
              "#bd3786"
             ],
             [
              0.5555555555555556,
              "#d8576b"
             ],
             [
              0.6666666666666666,
              "#ed7953"
             ],
             [
              0.7777777777777778,
              "#fb9f3a"
             ],
             [
              0.8888888888888888,
              "#fdca26"
             ],
             [
              1,
              "#f0f921"
             ]
            ],
            "type": "surface"
           }
          ],
          "table": [
           {
            "cells": {
             "fill": {
              "color": "#EBF0F8"
             },
             "line": {
              "color": "white"
             }
            },
            "header": {
             "fill": {
              "color": "#C8D4E3"
             },
             "line": {
              "color": "white"
             }
            },
            "type": "table"
           }
          ]
         },
         "layout": {
          "annotationdefaults": {
           "arrowcolor": "#2a3f5f",
           "arrowhead": 0,
           "arrowwidth": 1
          },
          "coloraxis": {
           "colorbar": {
            "outlinewidth": 0,
            "ticks": ""
           }
          },
          "colorscale": {
           "diverging": [
            [
             0,
             "#8e0152"
            ],
            [
             0.1,
             "#c51b7d"
            ],
            [
             0.2,
             "#de77ae"
            ],
            [
             0.3,
             "#f1b6da"
            ],
            [
             0.4,
             "#fde0ef"
            ],
            [
             0.5,
             "#f7f7f7"
            ],
            [
             0.6,
             "#e6f5d0"
            ],
            [
             0.7,
             "#b8e186"
            ],
            [
             0.8,
             "#7fbc41"
            ],
            [
             0.9,
             "#4d9221"
            ],
            [
             1,
             "#276419"
            ]
           ],
           "sequential": [
            [
             0,
             "#0d0887"
            ],
            [
             0.1111111111111111,
             "#46039f"
            ],
            [
             0.2222222222222222,
             "#7201a8"
            ],
            [
             0.3333333333333333,
             "#9c179e"
            ],
            [
             0.4444444444444444,
             "#bd3786"
            ],
            [
             0.5555555555555556,
             "#d8576b"
            ],
            [
             0.6666666666666666,
             "#ed7953"
            ],
            [
             0.7777777777777778,
             "#fb9f3a"
            ],
            [
             0.8888888888888888,
             "#fdca26"
            ],
            [
             1,
             "#f0f921"
            ]
           ],
           "sequentialminus": [
            [
             0,
             "#0d0887"
            ],
            [
             0.1111111111111111,
             "#46039f"
            ],
            [
             0.2222222222222222,
             "#7201a8"
            ],
            [
             0.3333333333333333,
             "#9c179e"
            ],
            [
             0.4444444444444444,
             "#bd3786"
            ],
            [
             0.5555555555555556,
             "#d8576b"
            ],
            [
             0.6666666666666666,
             "#ed7953"
            ],
            [
             0.7777777777777778,
             "#fb9f3a"
            ],
            [
             0.8888888888888888,
             "#fdca26"
            ],
            [
             1,
             "#f0f921"
            ]
           ]
          },
          "colorway": [
           "#1f77b4",
           "#ff7f0e",
           "#2ca02c",
           "#d62728",
           "#9467bd",
           "#8c564b",
           "#e377c2",
           "#7f7f7f",
           "#bcbd22",
           "#17becf"
          ],
          "font": {
           "color": "#2a3f5f"
          },
          "geo": {
           "bgcolor": "white",
           "lakecolor": "white",
           "landcolor": "white",
           "showlakes": true,
           "showland": true,
           "subunitcolor": "#C8D4E3"
          },
          "hoverlabel": {
           "align": "left"
          },
          "hovermode": "closest",
          "mapbox": {
           "style": "light"
          },
          "paper_bgcolor": "white",
          "plot_bgcolor": "white",
          "polar": {
           "angularaxis": {
            "gridcolor": "#EBF0F8",
            "linecolor": "#EBF0F8",
            "ticks": ""
           },
           "bgcolor": "white",
           "radialaxis": {
            "gridcolor": "#EBF0F8",
            "linecolor": "#EBF0F8",
            "ticks": ""
           }
          },
          "scene": {
           "xaxis": {
            "backgroundcolor": "white",
            "gridcolor": "#DFE8F3",
            "gridwidth": 2,
            "linecolor": "#EBF0F8",
            "showbackground": true,
            "showspikes": false,
            "ticks": "",
            "zerolinecolor": "#EBF0F8"
           },
           "yaxis": {
            "backgroundcolor": "white",
            "gridcolor": "#DFE8F3",
            "gridwidth": 2,
            "linecolor": "#EBF0F8",
            "showbackground": true,
            "showspikes": false,
            "ticks": "",
            "zerolinecolor": "#EBF0F8"
           },
           "zaxis": {
            "backgroundcolor": "white",
            "gridcolor": "#DFE8F3",
            "gridwidth": 2,
            "linecolor": "#EBF0F8",
            "showbackground": true,
            "showspikes": false,
            "ticks": "",
            "zerolinecolor": "#EBF0F8"
           }
          },
          "shapedefaults": {
           "line": {
            "color": "#2a3f5f"
           }
          },
          "ternary": {
           "aaxis": {
            "gridcolor": "#DFE8F3",
            "linecolor": "#A2B1C6",
            "ticks": ""
           },
           "baxis": {
            "gridcolor": "#DFE8F3",
            "linecolor": "#A2B1C6",
            "ticks": ""
           },
           "bgcolor": "white",
           "caxis": {
            "gridcolor": "#DFE8F3",
            "linecolor": "#A2B1C6",
            "ticks": ""
           }
          },
          "title": {
           "x": 0.05
          },
          "xaxis": {
           "automargin": true,
           "gridcolor": "#EBF0F8",
           "linecolor": "black",
           "linewidth": 2,
           "mirror": true,
           "showline": true,
           "ticks": "",
           "title": {
            "standoff": 15
           },
           "zeroline": false,
           "zerolinecolor": "#EBF0F8",
           "zerolinewidth": 2
          },
          "yaxis": {
           "automargin": true,
           "gridcolor": "#EBF0F8",
           "linecolor": "black",
           "linewidth": 2,
           "mirror": true,
           "showline": true,
           "ticks": "",
           "title": {
            "standoff": 15
           },
           "zeroline": false,
           "zerolinecolor": "#EBF0F8",
           "zerolinewidth": 2
          }
         }
        },
        "width": 800,
        "xaxis": {
         "range": [
          11636.43,
          22525.77
         ],
         "title": {
          "text": "Volume Flow (m<sup>3</sup>/h)"
         }
        },
        "yaxis": {
         "title": {
          "text": "T (K)"
         }
        }
       }
      }
     },
     "metadata": {},
     "output_type": "display_data"
    }
   ],
   "source": [
    "fig = new_imp_2sec.disch.T_plot(flow_v_units=\"m**3/h\",head_units=\"kJ/kg\",\n",
    "                    speed_units=\"rpm\",flow_v= new_point_2sec.flow_v, speed = new_point_2sec.speed)\n",
    "fig.update_layout(height=450,width=800)"
   ]
  },
  {
   "cell_type": "code",
   "execution_count": null,
   "id": "a1cb30dd",
   "metadata": {},
   "outputs": [],
   "source": []
  }
 ],
 "metadata": {
  "kernelspec": {
   "display_name": "py312",
   "language": "python",
   "name": "python3"
  },
  "language_info": {
   "codemirror_mode": {
    "name": "ipython",
    "version": 3
   },
   "file_extension": ".py",
   "mimetype": "text/x-python",
   "name": "python",
   "nbconvert_exporter": "python",
   "pygments_lexer": "ipython3",
   "version": "3.12.4"
  }
 },
 "nbformat": 4,
 "nbformat_minor": 5
}
